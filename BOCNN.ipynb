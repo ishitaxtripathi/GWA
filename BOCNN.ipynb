{
  "cells": [
    {
      "cell_type": "markdown",
      "id": "9cdd2007",
      "metadata": {
        "papermill": {
          "duration": 0.005435,
          "end_time": "2024-08-07T03:24:07.780786",
          "exception": false,
          "start_time": "2024-08-07T03:24:07.775351",
          "status": "completed"
        },
        "tags": [],
        "id": "9cdd2007"
      },
      "source": [
        "# Bayesian Optimization"
      ]
    },
    {
      "cell_type": "code",
      "execution_count": null,
      "id": "9314aa25",
      "metadata": {
        "_cell_guid": "b1076dfc-b9ad-4769-8c92-a6c4dae69d19",
        "_uuid": "8f2839f25d086af736a60e9eeb907d3b93b6e0e5",
        "execution": {
          "iopub.execute_input": "2024-08-07T03:24:07.792853Z",
          "iopub.status.busy": "2024-08-07T03:24:07.791981Z",
          "iopub.status.idle": "2024-08-07T03:24:21.886743Z",
          "shell.execute_reply": "2024-08-07T03:24:21.885423Z"
        },
        "papermill": {
          "duration": 14.103611,
          "end_time": "2024-08-07T03:24:21.889446",
          "exception": false,
          "start_time": "2024-08-07T03:24:07.785835",
          "status": "completed"
        },
        "tags": [],
        "id": "9314aa25",
        "outputId": "e9d4f0f4-f744-404d-eafc-e6536ad5ec2a"
      },
      "outputs": [
        {
          "name": "stderr",
          "output_type": "stream",
          "text": [
            "2024-08-07 03:24:11.664824: E external/local_xla/xla/stream_executor/cuda/cuda_dnn.cc:9261] Unable to register cuDNN factory: Attempting to register factory for plugin cuDNN when one has already been registered\n",
            "2024-08-07 03:24:11.664970: E external/local_xla/xla/stream_executor/cuda/cuda_fft.cc:607] Unable to register cuFFT factory: Attempting to register factory for plugin cuFFT when one has already been registered\n",
            "2024-08-07 03:24:11.809914: E external/local_xla/xla/stream_executor/cuda/cuda_blas.cc:1515] Unable to register cuBLAS factory: Attempting to register factory for plugin cuBLAS when one has already been registered\n"
          ]
        }
      ],
      "source": [
        "import numpy as np\n",
        "import pandas as pd\n",
        "import os\n",
        "import matplotlib.pyplot as plt\n",
        "import seaborn as sns\n",
        "from glob import glob\n",
        "import random\n",
        "import tensorflow as tf\n",
        "plt.style.use('ggplot')\n",
        "import warnings\n",
        "warnings.filterwarnings(\"ignore\")"
      ]
    },
    {
      "cell_type": "code",
      "execution_count": null,
      "id": "749ccc3f",
      "metadata": {
        "execution": {
          "iopub.execute_input": "2024-08-07T03:24:21.903056Z",
          "iopub.status.busy": "2024-08-07T03:24:21.902171Z",
          "iopub.status.idle": "2024-08-07T03:24:22.350729Z",
          "shell.execute_reply": "2024-08-07T03:24:22.349707Z"
        },
        "papermill": {
          "duration": 0.457017,
          "end_time": "2024-08-07T03:24:22.352787",
          "exception": false,
          "start_time": "2024-08-07T03:24:21.895770",
          "status": "completed"
        },
        "tags": [],
        "id": "749ccc3f",
        "outputId": "9a0ada5a-294a-4d4a-f50f-75b795330519"
      },
      "outputs": [
        {
          "data": {
            "text/html": [
              "<div>\n",
              "<style scoped>\n",
              "    .dataframe tbody tr th:only-of-type {\n",
              "        vertical-align: middle;\n",
              "    }\n",
              "\n",
              "    .dataframe tbody tr th {\n",
              "        vertical-align: top;\n",
              "    }\n",
              "\n",
              "    .dataframe thead th {\n",
              "        text-align: right;\n",
              "    }\n",
              "</style>\n",
              "<table border=\"1\" class=\"dataframe\">\n",
              "  <thead>\n",
              "    <tr style=\"text-align: right;\">\n",
              "      <th></th>\n",
              "      <th>id</th>\n",
              "      <th>target</th>\n",
              "    </tr>\n",
              "  </thead>\n",
              "  <tbody>\n",
              "    <tr>\n",
              "      <th>0</th>\n",
              "      <td>00000e74ad</td>\n",
              "      <td>1</td>\n",
              "    </tr>\n",
              "    <tr>\n",
              "      <th>1</th>\n",
              "      <td>00001f4945</td>\n",
              "      <td>0</td>\n",
              "    </tr>\n",
              "    <tr>\n",
              "      <th>2</th>\n",
              "      <td>0000661522</td>\n",
              "      <td>0</td>\n",
              "    </tr>\n",
              "    <tr>\n",
              "      <th>3</th>\n",
              "      <td>00007a006a</td>\n",
              "      <td>0</td>\n",
              "    </tr>\n",
              "    <tr>\n",
              "      <th>4</th>\n",
              "      <td>0000a38978</td>\n",
              "      <td>1</td>\n",
              "    </tr>\n",
              "  </tbody>\n",
              "</table>\n",
              "</div>"
            ],
            "text/plain": [
              "           id  target\n",
              "0  00000e74ad       1\n",
              "1  00001f4945       0\n",
              "2  0000661522       0\n",
              "3  00007a006a       0\n",
              "4  0000a38978       1"
            ]
          },
          "metadata": {},
          "output_type": "display_data"
        }
      ],
      "source": [
        "labels = pd.read_csv(\"../input/g2net-gravitational-wave-detection/training_labels.csv\")\n",
        "display(labels.head())"
      ]
    },
    {
      "cell_type": "code",
      "execution_count": null,
      "id": "b404b7c3",
      "metadata": {
        "execution": {
          "iopub.execute_input": "2024-08-07T03:24:22.364955Z",
          "iopub.status.busy": "2024-08-07T03:24:22.364643Z",
          "iopub.status.idle": "2024-08-07T03:24:48.643309Z",
          "shell.execute_reply": "2024-08-07T03:24:48.642053Z"
        },
        "papermill": {
          "duration": 26.287622,
          "end_time": "2024-08-07T03:24:48.645844",
          "exception": false,
          "start_time": "2024-08-07T03:24:22.358222",
          "status": "completed"
        },
        "tags": [],
        "id": "b404b7c3",
        "outputId": "14e83b3d-55c1-44e5-948f-488886df0602"
      },
      "outputs": [
        {
          "name": "stdout",
          "output_type": "stream",
          "text": [
            "Requirement already satisfied: optree in /opt/conda/lib/python3.10/site-packages (0.12.1)\r\n",
            "Requirement already satisfied: typing-extensions>=4.5.0 in /opt/conda/lib/python3.10/site-packages (from optree) (4.9.0)\r\n",
            "Collecting nnAudio\r\n",
            "  Downloading nnAudio-0.3.3-py3-none-any.whl.metadata (771 bytes)\r\n",
            "Requirement already satisfied: scipy>=1.2.0 in /opt/conda/lib/python3.10/site-packages (from nnAudio) (1.11.4)\r\n",
            "Requirement already satisfied: numpy>=1.14.5 in /opt/conda/lib/python3.10/site-packages (from nnAudio) (1.26.4)\r\n",
            "Requirement already satisfied: torch>=1.6.0 in /opt/conda/lib/python3.10/site-packages (from nnAudio) (2.1.2)\r\n",
            "Requirement already satisfied: filelock in /opt/conda/lib/python3.10/site-packages (from torch>=1.6.0->nnAudio) (3.13.1)\r\n",
            "Requirement already satisfied: typing-extensions in /opt/conda/lib/python3.10/site-packages (from torch>=1.6.0->nnAudio) (4.9.0)\r\n",
            "Requirement already satisfied: sympy in /opt/conda/lib/python3.10/site-packages (from torch>=1.6.0->nnAudio) (1.13.0)\r\n",
            "Requirement already satisfied: networkx in /opt/conda/lib/python3.10/site-packages (from torch>=1.6.0->nnAudio) (3.2.1)\r\n",
            "Requirement already satisfied: jinja2 in /opt/conda/lib/python3.10/site-packages (from torch>=1.6.0->nnAudio) (3.1.2)\r\n",
            "Requirement already satisfied: fsspec in /opt/conda/lib/python3.10/site-packages (from torch>=1.6.0->nnAudio) (2024.5.0)\r\n",
            "Requirement already satisfied: MarkupSafe>=2.0 in /opt/conda/lib/python3.10/site-packages (from jinja2->torch>=1.6.0->nnAudio) (2.1.3)\r\n",
            "Requirement already satisfied: mpmath<1.4,>=1.1.0 in /opt/conda/lib/python3.10/site-packages (from sympy->torch>=1.6.0->nnAudio) (1.3.0)\r\n",
            "Downloading nnAudio-0.3.3-py3-none-any.whl (43 kB)\r\n",
            "\u001b[2K   \u001b[90m━━━━━━━━━━━━━━━━━━━━━━━━━━━━━━━━━━━━━━━━\u001b[0m \u001b[32m43.6/43.6 kB\u001b[0m \u001b[31m1.9 MB/s\u001b[0m eta \u001b[36m0:00:00\u001b[0m\r\n",
            "\u001b[?25hInstalling collected packages: nnAudio\r\n",
            "Successfully installed nnAudio-0.3.3\r\n"
          ]
        }
      ],
      "source": [
        "! pip install optree\n",
        "! pip install nnAudio"
      ]
    },
    {
      "cell_type": "code",
      "execution_count": null,
      "id": "fea7535c",
      "metadata": {
        "execution": {
          "iopub.execute_input": "2024-08-07T03:24:48.660740Z",
          "iopub.status.busy": "2024-08-07T03:24:48.659923Z",
          "iopub.status.idle": "2024-08-07T03:24:52.935590Z",
          "shell.execute_reply": "2024-08-07T03:24:52.934608Z"
        },
        "papermill": {
          "duration": 4.286067,
          "end_time": "2024-08-07T03:24:52.938524",
          "exception": false,
          "start_time": "2024-08-07T03:24:48.652457",
          "status": "completed"
        },
        "tags": [],
        "id": "fea7535c"
      },
      "outputs": [],
      "source": [
        "from sklearn.model_selection import train_test_split\n",
        "\n",
        "from tensorflow import keras\n",
        "from keras.utils import Sequence\n",
        "from keras.models import Sequential\n",
        "from keras.layers import Dense, Dropout, Flatten, Conv1D, MaxPool1D, BatchNormalization\n",
        "from keras.optimizers import RMSprop,Adam\n",
        "import torch # For deep learning\n",
        "from nnAudio.Spectrogram import CQT1992v2 # For creating Constant-Q Transform spectrograms\n",
        "import math\n",
        "from random import shuffle\n",
        "\n",
        "import warnings\n",
        "warnings.filterwarnings(\"ignore\")"
      ]
    },
    {
      "cell_type": "code",
      "execution_count": null,
      "id": "8a383ed4",
      "metadata": {
        "execution": {
          "iopub.execute_input": "2024-08-07T03:24:52.958014Z",
          "iopub.status.busy": "2024-08-07T03:24:52.956716Z",
          "iopub.status.idle": "2024-08-07T03:24:52.976996Z",
          "shell.execute_reply": "2024-08-07T03:24:52.976080Z"
        },
        "papermill": {
          "duration": 0.031204,
          "end_time": "2024-08-07T03:24:52.979069",
          "exception": false,
          "start_time": "2024-08-07T03:24:52.947865",
          "status": "completed"
        },
        "tags": [],
        "id": "8a383ed4"
      },
      "outputs": [],
      "source": [
        "class DataGenerator(Sequence):\n",
        "    def __init__(self, path, list_IDs, data, batch_size):\n",
        "        self.path = path\n",
        "        self.list_IDs = list_IDs\n",
        "        self.data = data\n",
        "        self.batch_size = batch_size\n",
        "        self.indexes = np.arange(len(self.list_IDs))\n",
        "\n",
        "    def __len__(self):\n",
        "        len_ = int(len(self.list_IDs)/self.batch_size)\n",
        "        if len_*self.batch_size < len(self.list_IDs):\n",
        "            len_ += 1\n",
        "        return len_\n",
        "\n",
        "    def __getitem__(self, index):\n",
        "        indexes = self.indexes[index*self.batch_size:(index+1)*self.batch_size]\n",
        "        list_IDs_temp = [self.list_IDs[k] for k in indexes]\n",
        "        X, y = self.__data_generation(list_IDs_temp)\n",
        "        return X, y\n",
        "\n",
        "    def __data_generation(self, list_IDs_temp):\n",
        "        X = np.zeros((self.batch_size, 69, 193))\n",
        "        y = np.zeros((self.batch_size, 1))\n",
        "        for i, ID in enumerate(list_IDs_temp):\n",
        "            id_ = self.data.loc[ID, 'id']\n",
        "            file = id_+'.npy'\n",
        "            path_in = '/'.join([self.path, id_[0], id_[1], id_[2]])+'/'\n",
        "            data_array = np.load(path_in+file)\n",
        "            #np.hstack() apiles arrays in a horizontal way\n",
        "            waves = np.hstack(data_array)\n",
        "            #normalize\n",
        "            waves = waves / np.max(waves)\n",
        "            #we do a pytorch tensor and convert it into float\n",
        "            waves = torch.from_numpy(waves).float()\n",
        "            transform=CQT1992v2(sr=2048, fmin=20, fmax=1024, hop_length=64, verbose = False)\n",
        "            #Q-transform\n",
        "            image = transform(waves)\n",
        "            #We turn it back into a numpy array\n",
        "            image = np.array(image)\n",
        "            #transpose axes into (1,2,0)\n",
        "            image = np.transpose(image,(1,2,0))\n",
        "            # this creates an array(69, 193, 1) (an image in which the model can identify a signal)\n",
        "            # and then we create a pack of images corresponding to the batch size\n",
        "            # so the input_shape of the CNN must be (69, 193).\n",
        "            X[i, ] = image[:,:,0]\n",
        "            y[i, ] = self.data.loc[ID, 'target']\n",
        "        X = np.stack(X)\n",
        "        y = np.stack(y)\n",
        "        return X, y"
      ]
    },
    {
      "cell_type": "code",
      "execution_count": null,
      "id": "97fe97a1",
      "metadata": {
        "execution": {
          "iopub.execute_input": "2024-08-07T03:24:52.993475Z",
          "iopub.status.busy": "2024-08-07T03:24:52.993175Z",
          "iopub.status.idle": "2024-08-07T03:24:52.998206Z",
          "shell.execute_reply": "2024-08-07T03:24:52.997261Z"
        },
        "papermill": {
          "duration": 0.014538,
          "end_time": "2024-08-07T03:24:53.000190",
          "exception": false,
          "start_time": "2024-08-07T03:24:52.985652",
          "status": "completed"
        },
        "tags": [],
        "id": "97fe97a1"
      },
      "outputs": [],
      "source": [
        "import pandas as pd\n",
        "import random\n",
        "from itertools import cycle\n",
        "\n",
        "\n",
        "#the train dataset is split in 16 files (0,1,2,...,e,f) and we will use all of this files separately\n",
        "directorio = cycle(['0', '1', '2', '3', '4', '5', '6', '7', '8', '9', 'a', 'b', 'c', 'd', 'e', 'f'])"
      ]
    },
    {
      "cell_type": "code",
      "execution_count": null,
      "id": "460b34fb",
      "metadata": {
        "execution": {
          "iopub.execute_input": "2024-08-07T03:24:53.013962Z",
          "iopub.status.busy": "2024-08-07T03:24:53.013689Z",
          "iopub.status.idle": "2024-08-07T03:25:05.389277Z",
          "shell.execute_reply": "2024-08-07T03:25:05.388102Z"
        },
        "papermill": {
          "duration": 12.384986,
          "end_time": "2024-08-07T03:25:05.391594",
          "exception": false,
          "start_time": "2024-08-07T03:24:53.006608",
          "status": "completed"
        },
        "tags": [],
        "id": "460b34fb",
        "outputId": "2952227c-207d-42bf-8c59-f7d3b6fbc76d"
      },
      "outputs": [
        {
          "name": "stdout",
          "output_type": "stream",
          "text": [
            "Requirement already satisfied: scikit-optimize in /opt/conda/lib/python3.10/site-packages (0.10.2)\r\n",
            "Requirement already satisfied: joblib>=0.11 in /opt/conda/lib/python3.10/site-packages (from scikit-optimize) (1.4.2)\r\n",
            "Requirement already satisfied: pyaml>=16.9 in /opt/conda/lib/python3.10/site-packages (from scikit-optimize) (24.4.0)\r\n",
            "Requirement already satisfied: numpy>=1.20.3 in /opt/conda/lib/python3.10/site-packages (from scikit-optimize) (1.26.4)\r\n",
            "Requirement already satisfied: scipy>=1.1.0 in /opt/conda/lib/python3.10/site-packages (from scikit-optimize) (1.11.4)\r\n",
            "Requirement already satisfied: scikit-learn>=1.0.0 in /opt/conda/lib/python3.10/site-packages (from scikit-optimize) (1.2.2)\r\n",
            "Requirement already satisfied: packaging>=21.3 in /opt/conda/lib/python3.10/site-packages (from scikit-optimize) (21.3)\r\n",
            "Requirement already satisfied: pyparsing!=3.0.5,>=2.0.2 in /opt/conda/lib/python3.10/site-packages (from packaging>=21.3->scikit-optimize) (3.1.1)\r\n",
            "Requirement already satisfied: PyYAML in /opt/conda/lib/python3.10/site-packages (from pyaml>=16.9->scikit-optimize) (6.0.1)\r\n",
            "Requirement already satisfied: threadpoolctl>=2.0.0 in /opt/conda/lib/python3.10/site-packages (from scikit-learn>=1.0.0->scikit-optimize) (3.2.0)\r\n"
          ]
        }
      ],
      "source": [
        "#this is the Bayesian Optimization library\n",
        "!pip install scikit-optimize"
      ]
    },
    {
      "cell_type": "code",
      "execution_count": null,
      "id": "8df6b729",
      "metadata": {
        "execution": {
          "iopub.execute_input": "2024-08-07T03:25:05.407188Z",
          "iopub.status.busy": "2024-08-07T03:25:05.406808Z",
          "iopub.status.idle": "2024-08-07T03:25:05.703230Z",
          "shell.execute_reply": "2024-08-07T03:25:05.702322Z"
        },
        "papermill": {
          "duration": 0.306937,
          "end_time": "2024-08-07T03:25:05.705736",
          "exception": false,
          "start_time": "2024-08-07T03:25:05.398799",
          "status": "completed"
        },
        "tags": [],
        "id": "8df6b729"
      },
      "outputs": [],
      "source": [
        "import skopt\n",
        "from skopt import gp_minimize\n",
        "from skopt.space import Real, Integer, Categorical\n",
        "\n",
        "#we will study the logarithm of the number of neurons (base 2) and the number of dense layers\n",
        "dim_log_width = Integer(low=4, high=8, name='log_width')\n",
        "dim_layers = Integer(low=1, high=5, name='layers')\n",
        "dimensions = [dim_log_width, dim_layers]\n",
        "\n",
        "# The reason why I use numbers in between 2^4 and 2^8 in log_width is\n",
        "# that the model becomes unstable for higher widths\n",
        "# because each call only uses a small fragment of the dataset. Maybe if we used\n",
        "# all the dataset for every call, we would obtain better results, but I don't\n",
        "# have enough computational resources for that (it is too expensive)."
      ]
    },
    {
      "cell_type": "code",
      "execution_count": null,
      "id": "7b2a8ae4",
      "metadata": {
        "execution": {
          "iopub.execute_input": "2024-08-07T03:25:05.722336Z",
          "iopub.status.busy": "2024-08-07T03:25:05.721633Z",
          "iopub.status.idle": "2024-08-07T03:25:05.733421Z",
          "shell.execute_reply": "2024-08-07T03:25:05.732388Z"
        },
        "papermill": {
          "duration": 0.022267,
          "end_time": "2024-08-07T03:25:05.735388",
          "exception": false,
          "start_time": "2024-08-07T03:25:05.713121",
          "status": "completed"
        },
        "tags": [],
        "id": "7b2a8ae4"
      },
      "outputs": [],
      "source": [
        "#These vectors just keep track of the width, layers studied in every step with its accuracy.\n",
        "#I have used these values for a plot that shows how gp_minimize explores the hyperparameter space.\n",
        "log_width_history = []\n",
        "layers_history = []\n",
        "acc_history = []\n",
        "\n",
        "\n",
        "def train(params):\n",
        "    #every call will use the next file\n",
        "    directori = next(directorio)\n",
        "    #This selects the file of the dataset\n",
        "    train_idx = labels[labels['id'].str.startswith(directori)]['id'].values\n",
        "    y = labels[labels['id'].isin(train_idx)]['target'].values\n",
        "    #params is a vector with the dimensions (log_width, layers)\n",
        "    print(params)\n",
        "    log_width, layers = params\n",
        "    log_width_history.append(log_width)\n",
        "    layers_history.append(layers)\n",
        "\n",
        "    #Generating the training and validation data\n",
        "    train_idx, train_Valx = train_test_split(list(labels[labels['id'].str.startswith(directori)].index), test_size=0.2, random_state=2021)\n",
        "    train_generator = DataGenerator('/kaggle/input/g2net-gravitational-wave-detection/train/', train_idx, labels[labels['id'].str.startswith(directori)], 256)\n",
        "    val_generator = DataGenerator('/kaggle/input/g2net-gravitational-wave-detection/train/', train_Valx, labels[labels['id'].str.startswith(directori)], 256)\n",
        "\n",
        "    # Building the model\n",
        "    model = Sequential()\n",
        "    model.add(Conv1D(2**log_width, input_shape=(69, 193,), kernel_size=3, activation='relu'))\n",
        "    model.add(BatchNormalization())\n",
        "    model.add(Flatten())\n",
        "    for i in range(layers):\n",
        "        model.add(Dense(2**log_width, activation='relu'))\n",
        "    model.add(Dense(1, activation='sigmoid'))\n",
        "    model.compile(optimizer=Adam(learning_rate=2e-4), loss='binary_crossentropy', metrics=['accuracy'])\n",
        "\n",
        "    # Training the model\n",
        "    history = model.fit(train_generator, validation_data=val_generator, epochs=1)\n",
        "\n",
        "    # We evaluate the model's performance\n",
        "    val_loss, val_accuracy = model.evaluate(val_generator)\n",
        "    acc_history.append(val_accuracy)\n",
        "    # It returns the metrics that we want to optimize with gp_minimize\n",
        "    return -val_accuracy"
      ]
    },
    {
      "cell_type": "code",
      "execution_count": null,
      "id": "bd5bcc40",
      "metadata": {
        "execution": {
          "iopub.execute_input": "2024-08-07T03:25:05.750815Z",
          "iopub.status.busy": "2024-08-07T03:25:05.750465Z",
          "iopub.status.idle": "2024-08-07T03:25:05.754828Z",
          "shell.execute_reply": "2024-08-07T03:25:05.753908Z"
        },
        "papermill": {
          "duration": 0.014424,
          "end_time": "2024-08-07T03:25:05.756754",
          "exception": false,
          "start_time": "2024-08-07T03:25:05.742330",
          "status": "completed"
        },
        "tags": [],
        "id": "bd5bcc40"
      },
      "outputs": [],
      "source": [
        "#Choosing our prior (the first set of hyperparameters studied)\n",
        "default_parameters = [5, 1]"
      ]
    },
    {
      "cell_type": "code",
      "execution_count": null,
      "id": "8f8655ba",
      "metadata": {
        "execution": {
          "iopub.execute_input": "2024-08-07T03:25:05.771734Z",
          "iopub.status.busy": "2024-08-07T03:25:05.771430Z",
          "iopub.status.idle": "2024-08-07T07:42:13.084946Z",
          "shell.execute_reply": "2024-08-07T07:42:13.084083Z"
        },
        "papermill": {
          "duration": 15427.32461,
          "end_time": "2024-08-07T07:42:13.088341",
          "exception": false,
          "start_time": "2024-08-07T03:25:05.763731",
          "status": "completed"
        },
        "tags": [],
        "id": "8f8655ba",
        "outputId": "fa527474-1a04-4910-b6c2-c98fbdf29f9c"
      },
      "outputs": [
        {
          "name": "stdout",
          "output_type": "stream",
          "text": [
            "[5, 1]\n",
            "\u001b[1m  1/110\u001b[0m \u001b[37m━━━━━━━━━━━━━━━━━━━━\u001b[0m \u001b[1m1:30:15\u001b[0m 50s/step - accuracy: 0.5352 - loss: 0.7683"
          ]
        },
        {
          "name": "stderr",
          "output_type": "stream",
          "text": [
            "WARNING: All log messages before absl::InitializeLog() is called are written to STDERR\n",
            "I0000 00:00:1723001169.345729      82 device_compiler.h:186] Compiled cluster using XLA!  This line is logged at most once for the lifetime of the process.\n",
            "W0000 00:00:1723001169.369747      82 graph_launch.cc:671] Fallback to op-by-op mode because memset node breaks graph update\n"
          ]
        },
        {
          "name": "stdout",
          "output_type": "stream",
          "text": [
            "\u001b[1m108/110\u001b[0m \u001b[32m━━━━━━━━━━━━━━━━━━━\u001b[0m\u001b[37m━\u001b[0m \u001b[1m10s\u001b[0m 5s/step - accuracy: 0.5282 - loss: 0.6970"
          ]
        },
        {
          "name": "stderr",
          "output_type": "stream",
          "text": [
            "W0000 00:00:1723001761.038405      81 graph_launch.cc:671] Fallback to op-by-op mode because memset node breaks graph update\n"
          ]
        },
        {
          "name": "stdout",
          "output_type": "stream",
          "text": [
            "\u001b[1m110/110\u001b[0m \u001b[32m━━━━━━━━━━━━━━━━━━━━\u001b[0m\u001b[37m\u001b[0m \u001b[1m788s\u001b[0m 7s/step - accuracy: 0.5290 - loss: 0.6966 - val_accuracy: 0.6374 - val_loss: 0.6858\n",
            "\u001b[1m28/28\u001b[0m \u001b[32m━━━━━━━━━━━━━━━━━━━━\u001b[0m\u001b[37m\u001b[0m \u001b[1m108s\u001b[0m 4s/step - accuracy: 0.6382 - loss: 0.6851\n",
            "[5, 4]\n",
            "\u001b[1m  1/111\u001b[0m \u001b[37m━━━━━━━━━━━━━━━━━━━━\u001b[0m \u001b[1m1:27:24\u001b[0m 48s/step - accuracy: 0.4727 - loss: 0.7105"
          ]
        },
        {
          "name": "stderr",
          "output_type": "stream",
          "text": [
            "W0000 00:00:1723002083.404165      82 graph_launch.cc:671] Fallback to op-by-op mode because memset node breaks graph update\n"
          ]
        },
        {
          "name": "stdout",
          "output_type": "stream",
          "text": [
            "\u001b[1m110/111\u001b[0m \u001b[32m━━━━━━━━━━━━━━━━━━━\u001b[0m\u001b[37m━\u001b[0m \u001b[1m5s\u001b[0m 5s/step - accuracy: 0.5038 - loss: 0.6945 "
          ]
        },
        {
          "name": "stderr",
          "output_type": "stream",
          "text": [
            "W0000 00:00:1723002675.139127      83 graph_launch.cc:671] Fallback to op-by-op mode because memset node breaks graph update\n"
          ]
        },
        {
          "name": "stdout",
          "output_type": "stream",
          "text": [
            "\u001b[1m111/111\u001b[0m \u001b[32m━━━━━━━━━━━━━━━━━━━━\u001b[0m\u001b[37m\u001b[0m \u001b[1m784s\u001b[0m 7s/step - accuracy: 0.5041 - loss: 0.6945 - val_accuracy: 0.5116 - val_loss: 0.6922\n",
            "\u001b[1m28/28\u001b[0m \u001b[32m━━━━━━━━━━━━━━━━━━━━\u001b[0m\u001b[37m\u001b[0m \u001b[1m107s\u001b[0m 4s/step - accuracy: 0.5098 - loss: 0.6924\n",
            "[7, 3]\n",
            "\u001b[1m  1/109\u001b[0m \u001b[37m━━━━━━━━━━━━━━━━━━━━\u001b[0m \u001b[1m1:28:36\u001b[0m 49s/step - accuracy: 0.4805 - loss: 0.7110"
          ]
        },
        {
          "name": "stderr",
          "output_type": "stream",
          "text": [
            "W0000 00:00:1723002995.010139      80 graph_launch.cc:671] Fallback to op-by-op mode because memset node breaks graph update\n"
          ]
        },
        {
          "name": "stdout",
          "output_type": "stream",
          "text": [
            "\u001b[1m107/109\u001b[0m \u001b[32m━━━━━━━━━━━━━━━━━━━\u001b[0m\u001b[37m━\u001b[0m \u001b[1m10s\u001b[0m 5s/step - accuracy: 0.5211 - loss: 0.6930"
          ]
        },
        {
          "name": "stderr",
          "output_type": "stream",
          "text": [
            "W0000 00:00:1723003579.518407      83 graph_launch.cc:671] Fallback to op-by-op mode because memset node breaks graph update\n"
          ]
        },
        {
          "name": "stdout",
          "output_type": "stream",
          "text": [
            "\u001b[1m109/109\u001b[0m \u001b[32m━━━━━━━━━━━━━━━━━━━━\u001b[0m\u001b[37m\u001b[0m \u001b[1m782s\u001b[0m 7s/step - accuracy: 0.5223 - loss: 0.6924 - val_accuracy: 0.6519 - val_loss: 0.6780\n",
            "\u001b[1m28/28\u001b[0m \u001b[32m━━━━━━━━━━━━━━━━━━━━\u001b[0m\u001b[37m\u001b[0m \u001b[1m108s\u001b[0m 4s/step - accuracy: 0.6401 - loss: 0.6785\n",
            "[8, 3]\n",
            "\u001b[1m  1/110\u001b[0m \u001b[37m━━━━━━━━━━━━━━━━━━━━\u001b[0m \u001b[1m1:29:50\u001b[0m 49s/step - accuracy: 0.4922 - loss: 0.7124"
          ]
        },
        {
          "name": "stderr",
          "output_type": "stream",
          "text": [
            "W0000 00:00:1723003904.988230      83 graph_launch.cc:671] Fallback to op-by-op mode because memset node breaks graph update\n"
          ]
        },
        {
          "name": "stdout",
          "output_type": "stream",
          "text": [
            "\u001b[1m107/110\u001b[0m \u001b[32m━━━━━━━━━━━━━━━━━━━\u001b[0m\u001b[37m━\u001b[0m \u001b[1m16s\u001b[0m 5s/step - accuracy: 0.5278 - loss: 0.6980"
          ]
        },
        {
          "name": "stderr",
          "output_type": "stream",
          "text": [
            "W0000 00:00:1723004492.427918      81 graph_launch.cc:671] Fallback to op-by-op mode because memset node breaks graph update\n"
          ]
        },
        {
          "name": "stdout",
          "output_type": "stream",
          "text": [
            "\u001b[1m110/110\u001b[0m \u001b[32m━━━━━━━━━━━━━━━━━━━━\u001b[0m\u001b[37m\u001b[0m \u001b[1m786s\u001b[0m 7s/step - accuracy: 0.5299 - loss: 0.6964 - val_accuracy: 0.7026 - val_loss: 0.6745\n",
            "\u001b[1m28/28\u001b[0m \u001b[32m━━━━━━━━━━━━━━━━━━━━\u001b[0m\u001b[37m\u001b[0m \u001b[1m108s\u001b[0m 4s/step - accuracy: 0.7154 - loss: 0.6743\n",
            "[4, 3]\n",
            "\u001b[1m109/109\u001b[0m \u001b[32m━━━━━━━━━━━━━━━━━━━━\u001b[0m\u001b[37m\u001b[0m \u001b[1m873s\u001b[0m 8s/step - accuracy: 0.5119 - loss: 0.6922 - val_accuracy: 0.5664 - val_loss: 0.6894\n",
            "\u001b[1m28/28\u001b[0m \u001b[32m━━━━━━━━━━━━━━━━━━━━\u001b[0m\u001b[37m\u001b[0m \u001b[1m108s\u001b[0m 4s/step - accuracy: 0.5533 - loss: 0.6898\n",
            "[4, 2]\n",
            "\u001b[1m108/108\u001b[0m \u001b[32m━━━━━━━━━━━━━━━━━━━━\u001b[0m\u001b[37m\u001b[0m \u001b[1m774s\u001b[0m 7s/step - accuracy: 0.5000 - loss: 0.6945 - val_accuracy: 0.5158 - val_loss: 0.6929\n",
            "\u001b[1m27/27\u001b[0m \u001b[32m━━━━━━━━━━━━━━━━━━━━\u001b[0m\u001b[37m\u001b[0m \u001b[1m106s\u001b[0m 4s/step - accuracy: 0.5096 - loss: 0.6930\n",
            "[5, 2]\n",
            "\u001b[1m  1/109\u001b[0m \u001b[37m━━━━━━━━━━━━━━━━━━━━\u001b[0m \u001b[1m1:27:33\u001b[0m 49s/step - accuracy: 0.4648 - loss: 0.7585"
          ]
        },
        {
          "name": "stderr",
          "output_type": "stream",
          "text": [
            "W0000 00:00:1723006738.143264      82 graph_launch.cc:671] Fallback to op-by-op mode because memset node breaks graph update\n"
          ]
        },
        {
          "name": "stdout",
          "output_type": "stream",
          "text": [
            "\u001b[1m108/109\u001b[0m \u001b[32m━━━━━━━━━━━━━━━━━━━\u001b[0m\u001b[37m━\u001b[0m \u001b[1m5s\u001b[0m 5s/step - accuracy: 0.5188 - loss: 0.6965 "
          ]
        },
        {
          "name": "stderr",
          "output_type": "stream",
          "text": [
            "W0000 00:00:1723007325.684594      82 graph_launch.cc:671] Fallback to op-by-op mode because memset node breaks graph update\n"
          ]
        },
        {
          "name": "stdout",
          "output_type": "stream",
          "text": [
            "\u001b[1m109/109\u001b[0m \u001b[32m━━━━━━━━━━━━━━━━━━━━\u001b[0m\u001b[37m\u001b[0m \u001b[1m789s\u001b[0m 7s/step - accuracy: 0.5194 - loss: 0.6962 - val_accuracy: 0.5144 - val_loss: 0.6915\n",
            "\u001b[1m28/28\u001b[0m \u001b[32m━━━━━━━━━━━━━━━━━━━━\u001b[0m\u001b[37m\u001b[0m \u001b[1m105s\u001b[0m 4s/step - accuracy: 0.4956 - loss: 0.6939\n",
            "[6, 3]\n",
            "\u001b[1m110/110\u001b[0m \u001b[32m━━━━━━━━━━━━━━━━━━━━\u001b[0m\u001b[37m\u001b[0m \u001b[1m791s\u001b[0m 7s/step - accuracy: 0.5481 - loss: 0.6838 - val_accuracy: 0.6821 - val_loss: 0.6803\n",
            "\u001b[1m28/28\u001b[0m \u001b[32m━━━━━━━━━━━━━━━━━━━━\u001b[0m\u001b[37m\u001b[0m \u001b[1m107s\u001b[0m 4s/step - accuracy: 0.6695 - loss: 0.6808\n",
            "[5, 4]\n",
            "\u001b[1m  1/110\u001b[0m \u001b[37m━━━━━━━━━━━━━━━━━━━━\u001b[0m \u001b[1m1:25:44\u001b[0m 47s/step - accuracy: 0.5234 - loss: 0.6898"
          ]
        },
        {
          "name": "stderr",
          "output_type": "stream",
          "text": [
            "W0000 00:00:1723008568.856343      80 graph_launch.cc:671] Fallback to op-by-op mode because memset node breaks graph update\n"
          ]
        },
        {
          "name": "stdout",
          "output_type": "stream",
          "text": [
            "\u001b[1m108/110\u001b[0m \u001b[32m━━━━━━━━━━━━━━━━━━━\u001b[0m\u001b[37m━\u001b[0m \u001b[1m11s\u001b[0m 6s/step - accuracy: 0.5081 - loss: 0.6931"
          ]
        },
        {
          "name": "stderr",
          "output_type": "stream",
          "text": [
            "W0000 00:00:1723009175.372596      83 graph_launch.cc:671] Fallback to op-by-op mode because memset node breaks graph update\n"
          ]
        },
        {
          "name": "stdout",
          "output_type": "stream",
          "text": [
            "\u001b[1m110/110\u001b[0m \u001b[32m━━━━━━━━━━━━━━━━━━━━\u001b[0m\u001b[37m\u001b[0m \u001b[1m807s\u001b[0m 7s/step - accuracy: 0.5087 - loss: 0.6930 - val_accuracy: 0.5732 - val_loss: 0.6910\n",
            "\u001b[1m28/28\u001b[0m \u001b[32m━━━━━━━━━━━━━━━━━━━━\u001b[0m\u001b[37m\u001b[0m \u001b[1m107s\u001b[0m 4s/step - accuracy: 0.5730 - loss: 0.6911\n",
            "[5, 5]\n",
            "\u001b[1m  1/111\u001b[0m \u001b[37m━━━━━━━━━━━━━━━━━━━━\u001b[0m \u001b[1m1:31:45\u001b[0m 50s/step - accuracy: 0.4844 - loss: 0.7014"
          ]
        },
        {
          "name": "stderr",
          "output_type": "stream",
          "text": [
            "W0000 00:00:1723009506.219362      80 graph_launch.cc:671] Fallback to op-by-op mode because memset node breaks graph update\n"
          ]
        },
        {
          "name": "stdout",
          "output_type": "stream",
          "text": [
            "\u001b[1m109/111\u001b[0m \u001b[32m━━━━━━━━━━━━━━━━━━━\u001b[0m\u001b[37m━\u001b[0m \u001b[1m11s\u001b[0m 6s/step - accuracy: 0.5172 - loss: 0.6914"
          ]
        },
        {
          "name": "stderr",
          "output_type": "stream",
          "text": [
            "W0000 00:00:1723010135.670017      81 graph_launch.cc:671] Fallback to op-by-op mode because memset node breaks graph update\n"
          ]
        },
        {
          "name": "stdout",
          "output_type": "stream",
          "text": [
            "\u001b[1m111/111\u001b[0m \u001b[32m━━━━━━━━━━━━━━━━━━━━\u001b[0m\u001b[37m\u001b[0m \u001b[1m846s\u001b[0m 7s/step - accuracy: 0.5182 - loss: 0.6911 - val_accuracy: 0.5884 - val_loss: 0.6864\n",
            "\u001b[1m28/28\u001b[0m \u001b[32m━━━━━━━━━━━━━━━━━━━━\u001b[0m\u001b[37m\u001b[0m \u001b[1m120s\u001b[0m 4s/step - accuracy: 0.5780 - loss: 0.6872\n",
            "[7, 4]\n",
            "\u001b[1m  1/110\u001b[0m \u001b[37m━━━━━━━━━━━━━━━━━━━━\u001b[0m \u001b[1m1:40:43\u001b[0m 55s/step - accuracy: 0.4961 - loss: 0.7084"
          ]
        },
        {
          "name": "stderr",
          "output_type": "stream",
          "text": [
            "W0000 00:00:1723010521.787447      83 graph_launch.cc:671] Fallback to op-by-op mode because memset node breaks graph update\n"
          ]
        },
        {
          "name": "stdout",
          "output_type": "stream",
          "text": [
            "\u001b[1m108/110\u001b[0m \u001b[32m━━━━━━━━━━━━━━━━━━━\u001b[0m\u001b[37m━\u001b[0m \u001b[1m12s\u001b[0m 6s/step - accuracy: 0.5382 - loss: 0.6847"
          ]
        },
        {
          "name": "stderr",
          "output_type": "stream",
          "text": [
            "W0000 00:00:1723011189.818704      80 graph_launch.cc:671] Fallback to op-by-op mode because memset node breaks graph update\n"
          ]
        },
        {
          "name": "stdout",
          "output_type": "stream",
          "text": [
            "\u001b[1m110/110\u001b[0m \u001b[32m━━━━━━━━━━━━━━━━━━━━\u001b[0m\u001b[37m\u001b[0m \u001b[1m906s\u001b[0m 8s/step - accuracy: 0.5396 - loss: 0.6839 - val_accuracy: 0.6415 - val_loss: 0.6756\n",
            "\u001b[1m28/28\u001b[0m \u001b[32m━━━━━━━━━━━━━━━━━━━━\u001b[0m\u001b[37m\u001b[0m \u001b[1m108s\u001b[0m 4s/step - accuracy: 0.6348 - loss: 0.6759\n",
            "[7, 3]\n",
            "\u001b[1m  1/109\u001b[0m \u001b[37m━━━━━━━━━━━━━━━━━━━━\u001b[0m \u001b[1m1:31:12\u001b[0m 51s/step - accuracy: 0.5039 - loss: 0.6952"
          ]
        },
        {
          "name": "stderr",
          "output_type": "stream",
          "text": [
            "W0000 00:00:1723011573.888343      82 graph_launch.cc:671] Fallback to op-by-op mode because memset node breaks graph update\n"
          ]
        },
        {
          "name": "stdout",
          "output_type": "stream",
          "text": [
            "\u001b[1m107/109\u001b[0m \u001b[32m━━━━━━━━━━━━━━━━━━━\u001b[0m\u001b[37m━\u001b[0m \u001b[1m11s\u001b[0m 6s/step - accuracy: 0.5514 - loss: 0.6790"
          ]
        },
        {
          "name": "stderr",
          "output_type": "stream",
          "text": [
            "W0000 00:00:1723012225.445128      80 graph_launch.cc:671] Fallback to op-by-op mode because memset node breaks graph update\n"
          ]
        },
        {
          "name": "stdout",
          "output_type": "stream",
          "text": [
            "\u001b[1m109/109\u001b[0m \u001b[32m━━━━━━━━━━━━━━━━━━━━\u001b[0m\u001b[37m\u001b[0m \u001b[1m863s\u001b[0m 8s/step - accuracy: 0.5529 - loss: 0.6780 - val_accuracy: 0.6791 - val_loss: 0.6689\n",
            "\u001b[1m28/28\u001b[0m \u001b[32m━━━━━━━━━━━━━━━━━━━━\u001b[0m\u001b[37m\u001b[0m \u001b[1m111s\u001b[0m 4s/step - accuracy: 0.6642 - loss: 0.6710\n",
            "[5, 4]\n",
            "\u001b[1m  1/110\u001b[0m \u001b[37m━━━━━━━━━━━━━━━━━━━━\u001b[0m \u001b[1m1:38:56\u001b[0m 54s/step - accuracy: 0.4883 - loss: 0.7106"
          ]
        },
        {
          "name": "stderr",
          "output_type": "stream",
          "text": [
            "W0000 00:00:1723012574.508298      83 graph_launch.cc:671] Fallback to op-by-op mode because memset node breaks graph update\n"
          ]
        },
        {
          "name": "stdout",
          "output_type": "stream",
          "text": [
            "\u001b[1m108/110\u001b[0m \u001b[32m━━━━━━━━━━━━━━━━━━━\u001b[0m\u001b[37m━\u001b[0m \u001b[1m11s\u001b[0m 6s/step - accuracy: 0.5180 - loss: 0.6935"
          ]
        },
        {
          "name": "stderr",
          "output_type": "stream",
          "text": [
            "W0000 00:00:1723013196.895355      83 graph_launch.cc:671] Fallback to op-by-op mode because memset node breaks graph update\n"
          ]
        },
        {
          "name": "stdout",
          "output_type": "stream",
          "text": [
            "\u001b[1m110/110\u001b[0m \u001b[32m━━━━━━━━━━━━━━━━━━━━\u001b[0m\u001b[37m\u001b[0m \u001b[1m831s\u001b[0m 7s/step - accuracy: 0.5189 - loss: 0.6933 - val_accuracy: 0.5882 - val_loss: 0.6889\n",
            "\u001b[1m28/28\u001b[0m \u001b[32m━━━━━━━━━━━━━━━━━━━━\u001b[0m\u001b[37m\u001b[0m \u001b[1m113s\u001b[0m 4s/step - accuracy: 0.5844 - loss: 0.6892\n",
            "[7, 1]\n",
            "\u001b[1m  1/111\u001b[0m \u001b[37m━━━━━━━━━━━━━━━━━━━━\u001b[0m \u001b[1m1:31:54\u001b[0m 50s/step - accuracy: 0.4688 - loss: 0.7903"
          ]
        },
        {
          "name": "stderr",
          "output_type": "stream",
          "text": [
            "W0000 00:00:1723013537.874719      80 graph_launch.cc:671] Fallback to op-by-op mode because memset node breaks graph update\n"
          ]
        },
        {
          "name": "stdout",
          "output_type": "stream",
          "text": [
            "\u001b[1m109/111\u001b[0m \u001b[32m━━━━━━━━━━━━━━━━━━━\u001b[0m\u001b[37m━\u001b[0m \u001b[1m13s\u001b[0m 7s/step - accuracy: 0.5253 - loss: 0.7333"
          ]
        },
        {
          "name": "stderr",
          "output_type": "stream",
          "text": [
            "W0000 00:00:1723014271.958006      83 graph_launch.cc:671] Fallback to op-by-op mode because memset node breaks graph update\n"
          ]
        },
        {
          "name": "stdout",
          "output_type": "stream",
          "text": [
            "\u001b[1m111/111\u001b[0m \u001b[32m━━━━━━━━━━━━━━━━━━━━\u001b[0m\u001b[37m\u001b[0m \u001b[1m956s\u001b[0m 8s/step - accuracy: 0.5265 - loss: 0.7319 - val_accuracy: 0.5392 - val_loss: 0.6804\n",
            "\u001b[1m28/28\u001b[0m \u001b[32m━━━━━━━━━━━━━━━━━━━━\u001b[0m\u001b[37m\u001b[0m \u001b[1m108s\u001b[0m 4s/step - accuracy: 0.5296 - loss: 0.6816\n",
            "[5, 2]\n",
            "\u001b[1m  1/111\u001b[0m \u001b[37m━━━━━━━━━━━━━━━━━━━━\u001b[0m \u001b[1m1:29:01\u001b[0m 49s/step - accuracy: 0.4922 - loss: 0.7212"
          ]
        },
        {
          "name": "stderr",
          "output_type": "stream",
          "text": [
            "W0000 00:00:1723014622.732646      83 graph_launch.cc:671] Fallback to op-by-op mode because memset node breaks graph update\n"
          ]
        },
        {
          "name": "stdout",
          "output_type": "stream",
          "text": [
            "\u001b[1m110/111\u001b[0m \u001b[32m━━━━━━━━━━━━━━━━━━━\u001b[0m\u001b[37m━\u001b[0m \u001b[1m5s\u001b[0m 6s/step - accuracy: 0.5184 - loss: 0.6987 "
          ]
        },
        {
          "name": "stderr",
          "output_type": "stream",
          "text": [
            "W0000 00:00:1723015268.768599      80 graph_launch.cc:671] Fallback to op-by-op mode because memset node breaks graph update\n"
          ]
        },
        {
          "name": "stdout",
          "output_type": "stream",
          "text": [
            "\u001b[1m111/111\u001b[0m \u001b[32m━━━━━━━━━━━━━━━━━━━━\u001b[0m\u001b[37m\u001b[0m \u001b[1m874s\u001b[0m 8s/step - accuracy: 0.5189 - loss: 0.6984 - val_accuracy: 0.6014 - val_loss: 0.6884\n",
            "\u001b[1m28/28\u001b[0m \u001b[32m━━━━━━━━━━━━━━━━━━━━\u001b[0m\u001b[37m\u001b[0m \u001b[1m111s\u001b[0m 4s/step - accuracy: 0.5872 - loss: 0.6892\n",
            "[6, 1]\n",
            "\u001b[1m110/110\u001b[0m \u001b[32m━━━━━━━━━━━━━━━━━━━━\u001b[0m\u001b[37m\u001b[0m \u001b[1m835s\u001b[0m 7s/step - accuracy: 0.5470 - loss: 0.6846 - val_accuracy: 0.6108 - val_loss: 0.6774\n",
            "\u001b[1m28/28\u001b[0m \u001b[32m━━━━━━━━━━━━━━━━━━━━\u001b[0m\u001b[37m\u001b[0m \u001b[1m108s\u001b[0m 4s/step - accuracy: 0.6009 - loss: 0.6779\n"
          ]
        }
      ],
      "source": [
        "# EI (expected improcvement) ACQ function is the safest in this context. However, PI (probability of improvement)\n",
        "# can also be studied. It is a bit more agressive, but might work correctly as well.\n",
        "# There are more options for ACQ functions but I am not sure if they will work\n",
        "# Here we choose the number of times we want gp_minimize to call the training function.\n",
        "# Every call it will study a set of hyperparameters, and it will not use an already used\n",
        "# set of training data.\n",
        "search_result = gp_minimize(\n",
        "    func=train,\n",
        "    dimensions=dimensions,\n",
        "    acq_func='EI',\n",
        "    n_calls=16,\n",
        "    x0=default_parameters)"
      ]
    },
    {
      "cell_type": "code",
      "execution_count": null,
      "id": "c5385ab8",
      "metadata": {
        "execution": {
          "iopub.execute_input": "2024-08-07T07:42:13.464241Z",
          "iopub.status.busy": "2024-08-07T07:42:13.463858Z",
          "iopub.status.idle": "2024-08-07T07:42:13.470961Z",
          "shell.execute_reply": "2024-08-07T07:42:13.470088Z"
        },
        "papermill": {
          "duration": 0.195202,
          "end_time": "2024-08-07T07:42:13.473240",
          "exception": false,
          "start_time": "2024-08-07T07:42:13.278038",
          "status": "completed"
        },
        "tags": [],
        "id": "c5385ab8",
        "outputId": "83803eec-47ca-46bd-9c0d-e5fec26846cb"
      },
      "outputs": [
        {
          "name": "stdout",
          "output_type": "stream",
          "text": [
            "[8, 3]\n",
            "5 1 0.6374163031578064\n",
            "5 4 0.5115792155265808\n",
            "7 3 0.6519252061843872\n",
            "8 3 0.7025669813156128\n",
            "4 3 0.56640625\n",
            "4 2 0.5157696604728699\n",
            "5 2 0.5143694281578064\n",
            "6 3 0.6820591688156128\n",
            "5 4 0.5732421875\n",
            "5 5 0.5884486436843872\n",
            "7 4 0.6414620280265808\n",
            "7 3 0.6791294813156128\n",
            "5 4 0.5881696343421936\n",
            "7 1 0.5392020344734192\n",
            "5 2 0.6014229655265808\n",
            "6 1 0.6107701063156128\n"
          ]
        }
      ],
      "source": [
        "best_width = 2**(search_result.x[0])  # the best value of width obtained\n",
        "best_layers = search_result.x[1]  # the best value of layers obtained\n",
        "print(search_result.x)\n",
        "for i in range(len(acc_history)):\n",
        "    print(log_width_history[i], layers_history[i], acc_history[i])"
      ]
    },
    {
      "cell_type": "code",
      "execution_count": null,
      "id": "88d72acc",
      "metadata": {
        "execution": {
          "iopub.execute_input": "2024-08-07T07:42:13.843240Z",
          "iopub.status.busy": "2024-08-07T07:42:13.842527Z",
          "iopub.status.idle": "2024-08-07T07:42:14.254193Z",
          "shell.execute_reply": "2024-08-07T07:42:14.253384Z"
        },
        "papermill": {
          "duration": 0.597647,
          "end_time": "2024-08-07T07:42:14.256476",
          "exception": false,
          "start_time": "2024-08-07T07:42:13.658829",
          "status": "completed"
        },
        "tags": [],
        "id": "88d72acc"
      },
      "outputs": [],
      "source": [
        "sample_submission = pd.read_csv('../input/g2net-gravitational-wave-detection/sample_submission.csv')\n",
        "train_idx =  labels['id'].values\n",
        "y = labels['target'].values\n",
        "test_idx = sample_submission['id'].values\n",
        "train_idx, train_Valx = train_test_split(list(labels.index), test_size=0.05, random_state=2021)\n",
        "test_idx = list(sample_submission.index)"
      ]
    },
    {
      "cell_type": "code",
      "execution_count": null,
      "id": "4e2ead7d",
      "metadata": {
        "execution": {
          "iopub.execute_input": "2024-08-07T07:42:14.630744Z",
          "iopub.status.busy": "2024-08-07T07:42:14.630377Z",
          "iopub.status.idle": "2024-08-07T07:42:14.635817Z",
          "shell.execute_reply": "2024-08-07T07:42:14.635063Z"
        },
        "papermill": {
          "duration": 0.193768,
          "end_time": "2024-08-07T07:42:14.637622",
          "exception": false,
          "start_time": "2024-08-07T07:42:14.443854",
          "status": "completed"
        },
        "tags": [],
        "id": "4e2ead7d"
      },
      "outputs": [],
      "source": [
        "train_generator = DataGenerator('/kaggle/input/g2net-gravitational-wave-detection/train/', train_idx, labels, 256)\n",
        "val_generator = DataGenerator('/kaggle/input/g2net-gravitational-wave-detection/train/', train_Valx, labels, 256)\n",
        "test_generator = DataGenerator('/kaggle/input/g2net-gravitational-wave-detection/test/', test_idx, sample_submission, 256)"
      ]
    },
    {
      "cell_type": "code",
      "execution_count": null,
      "id": "ae1a5b16",
      "metadata": {
        "execution": {
          "iopub.execute_input": "2024-08-07T07:42:15.003951Z",
          "iopub.status.busy": "2024-08-07T07:42:15.003107Z",
          "iopub.status.idle": "2024-08-07T07:42:15.121078Z",
          "shell.execute_reply": "2024-08-07T07:42:15.120273Z"
        },
        "papermill": {
          "duration": 0.303434,
          "end_time": "2024-08-07T07:42:15.123500",
          "exception": false,
          "start_time": "2024-08-07T07:42:14.820066",
          "status": "completed"
        },
        "tags": [],
        "id": "ae1a5b16"
      },
      "outputs": [],
      "source": [
        "classical_model= Sequential()\n",
        "classical_model.add(Conv1D(best_width, input_shape=(69, 193,), kernel_size=3, activation='relu'))\n",
        "classical_model.add(BatchNormalization())\n",
        "classical_model.add(Flatten())\n",
        "for i in range(best_layers):\n",
        "    classical_model.add(Dense(best_width, activation='relu'))\n",
        "classical_model.add(Dense(1, activation='sigmoid'))\n",
        "classical_model.compile(optimizer=Adam(learning_rate=2e-4), loss='binary_crossentropy', metrics=['accuracy'])"
      ]
    },
    {
      "cell_type": "code",
      "execution_count": null,
      "id": "67059408",
      "metadata": {
        "execution": {
          "iopub.execute_input": "2024-08-07T07:42:15.494190Z",
          "iopub.status.busy": "2024-08-07T07:42:15.493320Z",
          "iopub.status.idle": "2024-08-07T12:40:27.092544Z",
          "shell.execute_reply": "2024-08-07T12:40:27.091472Z"
        },
        "papermill": {
          "duration": 17891.789425,
          "end_time": "2024-08-07T12:40:27.097210",
          "exception": false,
          "start_time": "2024-08-07T07:42:15.307785",
          "status": "completed"
        },
        "tags": [],
        "id": "67059408",
        "outputId": "e57133f1-1dec-49f4-8d39-a8599ee4daef"
      },
      "outputs": [
        {
          "data": {
            "text/html": [
              "<pre style=\"white-space:pre;overflow-x:auto;line-height:normal;font-family:Menlo,'DejaVu Sans Mono',consolas,'Courier New',monospace\"><span style=\"font-weight: bold\">Model: \"sequential_16\"</span>\n",
              "</pre>\n"
            ],
            "text/plain": [
              "\u001b[1mModel: \"sequential_16\"\u001b[0m\n"
            ]
          },
          "metadata": {},
          "output_type": "display_data"
        },
        {
          "data": {
            "text/html": [
              "<pre style=\"white-space:pre;overflow-x:auto;line-height:normal;font-family:Menlo,'DejaVu Sans Mono',consolas,'Courier New',monospace\">┏━━━━━━━━━━━━━━━━━━━━━━━━━━━━━━━━━┳━━━━━━━━━━━━━━━━━━━━━━━━┳━━━━━━━━━━━━━━━┓\n",
              "┃<span style=\"font-weight: bold\"> Layer (type)                    </span>┃<span style=\"font-weight: bold\"> Output Shape           </span>┃<span style=\"font-weight: bold\">       Param # </span>┃\n",
              "┡━━━━━━━━━━━━━━━━━━━━━━━━━━━━━━━━━╇━━━━━━━━━━━━━━━━━━━━━━━━╇━━━━━━━━━━━━━━━┩\n",
              "│ conv1d_16 (<span style=\"color: #0087ff; text-decoration-color: #0087ff\">Conv1D</span>)              │ (<span style=\"color: #00d7ff; text-decoration-color: #00d7ff\">None</span>, <span style=\"color: #00af00; text-decoration-color: #00af00\">67</span>, <span style=\"color: #00af00; text-decoration-color: #00af00\">256</span>)        │       <span style=\"color: #00af00; text-decoration-color: #00af00\">148,480</span> │\n",
              "├─────────────────────────────────┼────────────────────────┼───────────────┤\n",
              "│ batch_normalization_16          │ (<span style=\"color: #00d7ff; text-decoration-color: #00d7ff\">None</span>, <span style=\"color: #00af00; text-decoration-color: #00af00\">67</span>, <span style=\"color: #00af00; text-decoration-color: #00af00\">256</span>)        │         <span style=\"color: #00af00; text-decoration-color: #00af00\">1,024</span> │\n",
              "│ (<span style=\"color: #0087ff; text-decoration-color: #0087ff\">BatchNormalization</span>)            │                        │               │\n",
              "├─────────────────────────────────┼────────────────────────┼───────────────┤\n",
              "│ flatten_16 (<span style=\"color: #0087ff; text-decoration-color: #0087ff\">Flatten</span>)            │ (<span style=\"color: #00d7ff; text-decoration-color: #00d7ff\">None</span>, <span style=\"color: #00af00; text-decoration-color: #00af00\">17152</span>)          │             <span style=\"color: #00af00; text-decoration-color: #00af00\">0</span> │\n",
              "├─────────────────────────────────┼────────────────────────┼───────────────┤\n",
              "│ dense_61 (<span style=\"color: #0087ff; text-decoration-color: #0087ff\">Dense</span>)                │ (<span style=\"color: #00d7ff; text-decoration-color: #00d7ff\">None</span>, <span style=\"color: #00af00; text-decoration-color: #00af00\">256</span>)            │     <span style=\"color: #00af00; text-decoration-color: #00af00\">4,391,168</span> │\n",
              "├─────────────────────────────────┼────────────────────────┼───────────────┤\n",
              "│ dense_62 (<span style=\"color: #0087ff; text-decoration-color: #0087ff\">Dense</span>)                │ (<span style=\"color: #00d7ff; text-decoration-color: #00d7ff\">None</span>, <span style=\"color: #00af00; text-decoration-color: #00af00\">256</span>)            │        <span style=\"color: #00af00; text-decoration-color: #00af00\">65,792</span> │\n",
              "├─────────────────────────────────┼────────────────────────┼───────────────┤\n",
              "│ dense_63 (<span style=\"color: #0087ff; text-decoration-color: #0087ff\">Dense</span>)                │ (<span style=\"color: #00d7ff; text-decoration-color: #00d7ff\">None</span>, <span style=\"color: #00af00; text-decoration-color: #00af00\">256</span>)            │        <span style=\"color: #00af00; text-decoration-color: #00af00\">65,792</span> │\n",
              "├─────────────────────────────────┼────────────────────────┼───────────────┤\n",
              "│ dense_64 (<span style=\"color: #0087ff; text-decoration-color: #0087ff\">Dense</span>)                │ (<span style=\"color: #00d7ff; text-decoration-color: #00d7ff\">None</span>, <span style=\"color: #00af00; text-decoration-color: #00af00\">1</span>)              │           <span style=\"color: #00af00; text-decoration-color: #00af00\">257</span> │\n",
              "└─────────────────────────────────┴────────────────────────┴───────────────┘\n",
              "</pre>\n"
            ],
            "text/plain": [
              "┏━━━━━━━━━━━━━━━━━━━━━━━━━━━━━━━━━┳━━━━━━━━━━━━━━━━━━━━━━━━┳━━━━━━━━━━━━━━━┓\n",
              "┃\u001b[1m \u001b[0m\u001b[1mLayer (type)                   \u001b[0m\u001b[1m \u001b[0m┃\u001b[1m \u001b[0m\u001b[1mOutput Shape          \u001b[0m\u001b[1m \u001b[0m┃\u001b[1m \u001b[0m\u001b[1m      Param #\u001b[0m\u001b[1m \u001b[0m┃\n",
              "┡━━━━━━━━━━━━━━━━━━━━━━━━━━━━━━━━━╇━━━━━━━━━━━━━━━━━━━━━━━━╇━━━━━━━━━━━━━━━┩\n",
              "│ conv1d_16 (\u001b[38;5;33mConv1D\u001b[0m)              │ (\u001b[38;5;45mNone\u001b[0m, \u001b[38;5;34m67\u001b[0m, \u001b[38;5;34m256\u001b[0m)        │       \u001b[38;5;34m148,480\u001b[0m │\n",
              "├─────────────────────────────────┼────────────────────────┼───────────────┤\n",
              "│ batch_normalization_16          │ (\u001b[38;5;45mNone\u001b[0m, \u001b[38;5;34m67\u001b[0m, \u001b[38;5;34m256\u001b[0m)        │         \u001b[38;5;34m1,024\u001b[0m │\n",
              "│ (\u001b[38;5;33mBatchNormalization\u001b[0m)            │                        │               │\n",
              "├─────────────────────────────────┼────────────────────────┼───────────────┤\n",
              "│ flatten_16 (\u001b[38;5;33mFlatten\u001b[0m)            │ (\u001b[38;5;45mNone\u001b[0m, \u001b[38;5;34m17152\u001b[0m)          │             \u001b[38;5;34m0\u001b[0m │\n",
              "├─────────────────────────────────┼────────────────────────┼───────────────┤\n",
              "│ dense_61 (\u001b[38;5;33mDense\u001b[0m)                │ (\u001b[38;5;45mNone\u001b[0m, \u001b[38;5;34m256\u001b[0m)            │     \u001b[38;5;34m4,391,168\u001b[0m │\n",
              "├─────────────────────────────────┼────────────────────────┼───────────────┤\n",
              "│ dense_62 (\u001b[38;5;33mDense\u001b[0m)                │ (\u001b[38;5;45mNone\u001b[0m, \u001b[38;5;34m256\u001b[0m)            │        \u001b[38;5;34m65,792\u001b[0m │\n",
              "├─────────────────────────────────┼────────────────────────┼───────────────┤\n",
              "│ dense_63 (\u001b[38;5;33mDense\u001b[0m)                │ (\u001b[38;5;45mNone\u001b[0m, \u001b[38;5;34m256\u001b[0m)            │        \u001b[38;5;34m65,792\u001b[0m │\n",
              "├─────────────────────────────────┼────────────────────────┼───────────────┤\n",
              "│ dense_64 (\u001b[38;5;33mDense\u001b[0m)                │ (\u001b[38;5;45mNone\u001b[0m, \u001b[38;5;34m1\u001b[0m)              │           \u001b[38;5;34m257\u001b[0m │\n",
              "└─────────────────────────────────┴────────────────────────┴───────────────┘\n"
            ]
          },
          "metadata": {},
          "output_type": "display_data"
        },
        {
          "data": {
            "text/html": [
              "<pre style=\"white-space:pre;overflow-x:auto;line-height:normal;font-family:Menlo,'DejaVu Sans Mono',consolas,'Courier New',monospace\"><span style=\"font-weight: bold\"> Total params: </span><span style=\"color: #00af00; text-decoration-color: #00af00\">4,672,513</span> (17.82 MB)\n",
              "</pre>\n"
            ],
            "text/plain": [
              "\u001b[1m Total params: \u001b[0m\u001b[38;5;34m4,672,513\u001b[0m (17.82 MB)\n"
            ]
          },
          "metadata": {},
          "output_type": "display_data"
        },
        {
          "data": {
            "text/html": [
              "<pre style=\"white-space:pre;overflow-x:auto;line-height:normal;font-family:Menlo,'DejaVu Sans Mono',consolas,'Courier New',monospace\"><span style=\"font-weight: bold\"> Trainable params: </span><span style=\"color: #00af00; text-decoration-color: #00af00\">4,672,001</span> (17.82 MB)\n",
              "</pre>\n"
            ],
            "text/plain": [
              "\u001b[1m Trainable params: \u001b[0m\u001b[38;5;34m4,672,001\u001b[0m (17.82 MB)\n"
            ]
          },
          "metadata": {},
          "output_type": "display_data"
        },
        {
          "data": {
            "text/html": [
              "<pre style=\"white-space:pre;overflow-x:auto;line-height:normal;font-family:Menlo,'DejaVu Sans Mono',consolas,'Courier New',monospace\"><span style=\"font-weight: bold\"> Non-trainable params: </span><span style=\"color: #00af00; text-decoration-color: #00af00\">512</span> (2.00 KB)\n",
              "</pre>\n"
            ],
            "text/plain": [
              "\u001b[1m Non-trainable params: \u001b[0m\u001b[38;5;34m512\u001b[0m (2.00 KB)\n"
            ]
          },
          "metadata": {},
          "output_type": "display_data"
        },
        {
          "name": "stdout",
          "output_type": "stream",
          "text": [
            "\u001b[1m   1/2079\u001b[0m \u001b[37m━━━━━━━━━━━━━━━━━━━━\u001b[0m \u001b[1m31:23:57\u001b[0m 54s/step - accuracy: 0.5352 - loss: 0.6923"
          ]
        },
        {
          "name": "stderr",
          "output_type": "stream",
          "text": [
            "W0000 00:00:1723016601.176779      80 graph_launch.cc:671] Fallback to op-by-op mode because memset node breaks graph update\n"
          ]
        },
        {
          "name": "stdout",
          "output_type": "stream",
          "text": [
            "\u001b[1m2076/2079\u001b[0m \u001b[32m━━━━━━━━━━━━━━━━━━━\u001b[0m\u001b[37m━\u001b[0m \u001b[1m17s\u001b[0m 6s/step - accuracy: 0.7061 - loss: 0.5392"
          ]
        },
        {
          "name": "stderr",
          "output_type": "stream",
          "text": [
            "W0000 00:00:1723028448.108699      80 graph_launch.cc:671] Fallback to op-by-op mode because memset node breaks graph update\n"
          ]
        },
        {
          "name": "stdout",
          "output_type": "stream",
          "text": [
            "\u001b[1m2079/2079\u001b[0m \u001b[32m━━━━━━━━━━━━━━━━━━━━\u001b[0m\u001b[37m\u001b[0m \u001b[1m12517s\u001b[0m 6s/step - accuracy: 0.7062 - loss: 0.5391 - val_accuracy: 0.7500 - val_loss: 0.4849\n",
            "\u001b[1m  1/883\u001b[0m \u001b[37m━━━━━━━━━━━━━━━━━━━━\u001b[0m \u001b[1m1:02:29\u001b[0m 4s/step"
          ]
        },
        {
          "name": "stderr",
          "output_type": "stream",
          "text": [
            "W0000 00:00:1723029079.666915      81 graph_launch.cc:671] Fallback to op-by-op mode because memset node breaks graph update\n"
          ]
        },
        {
          "name": "stdout",
          "output_type": "stream",
          "text": [
            "\u001b[1m883/883\u001b[0m \u001b[32m━━━━━━━━━━━━━━━━━━━━\u001b[0m\u001b[37m\u001b[0m \u001b[1m5350s\u001b[0m 6s/step\n",
            "['submission.csv', '__notebook__.ipynb']\n",
            "['submission.csv', '__notebook__.ipynb']\n"
          ]
        }
      ],
      "source": [
        "classical_model.summary()\n",
        "history_classical = classical_model.fit(train_generator, validation_data=val_generator, epochs = 1)\n",
        "predict = classical_model.predict(test_generator, verbose=1)\n",
        "sample_submission['target'] = predict[:len(sample_submission)]\n",
        "sample_submission.to_csv('submission.csv', index=False)\n",
        "my_submission = pd.read_csv(\"./submission.csv\")\n",
        "my_submission\n",
        "import os\n",
        "print(os.listdir(\".\"))\n",
        "print(os.listdir(\"/kaggle/working\"))"
      ]
    },
    {
      "cell_type": "code",
      "source": [],
      "metadata": {
        "id": "3RQg8la4MVgh"
      },
      "id": "3RQg8la4MVgh",
      "execution_count": null,
      "outputs": []
    }
  ],
  "metadata": {
    "kaggle": {
      "accelerator": "none",
      "dataSources": [
        {
          "databundleVersionId": 2399555,
          "sourceId": 23249,
          "sourceType": "competition"
        }
      ],
      "dockerImageVersionId": 30747,
      "isGpuEnabled": false,
      "isInternetEnabled": true,
      "language": "python",
      "sourceType": "notebook"
    },
    "kernelspec": {
      "display_name": "Python 3",
      "language": "python",
      "name": "python3"
    },
    "language_info": {
      "codemirror_mode": {
        "name": "ipython",
        "version": 3
      },
      "file_extension": ".py",
      "mimetype": "text/x-python",
      "name": "python",
      "nbconvert_exporter": "python",
      "pygments_lexer": "ipython3",
      "version": "3.10.13"
    },
    "papermill": {
      "default_parameters": {},
      "duration": 38689.852402,
      "end_time": "2024-08-07T14:08:54.787449",
      "environment_variables": {},
      "exception": true,
      "input_path": "__notebook__.ipynb",
      "output_path": "__notebook__.ipynb",
      "parameters": {},
      "start_time": "2024-08-07T03:24:04.935047",
      "version": "2.5.0"
    },
    "colab": {
      "provenance": []
    }
  },
  "nbformat": 4,
  "nbformat_minor": 5
}