{
  "cells": [
    {
      "cell_type": "markdown",
      "id": "30fa4a1f",
      "metadata": {
        "papermill": {
          "duration": 0.006389,
          "end_time": "2024-08-11T13:20:40.167066",
          "exception": false,
          "start_time": "2024-08-11T13:20:40.160677",
          "status": "completed"
        },
        "tags": [],
        "id": "30fa4a1f"
      },
      "source": [
        "# Bayesian Optimization"
      ]
    },
    {
      "cell_type": "code",
      "execution_count": null,
      "id": "d485e4c5",
      "metadata": {
        "_cell_guid": "b1076dfc-b9ad-4769-8c92-a6c4dae69d19",
        "_uuid": "8f2839f25d086af736a60e9eeb907d3b93b6e0e5",
        "execution": {
          "iopub.execute_input": "2024-08-11T13:20:40.180272Z",
          "iopub.status.busy": "2024-08-11T13:20:40.179404Z",
          "iopub.status.idle": "2024-08-11T13:20:53.712821Z",
          "shell.execute_reply": "2024-08-11T13:20:53.711992Z"
        },
        "papermill": {
          "duration": 13.542547,
          "end_time": "2024-08-11T13:20:53.715220",
          "exception": false,
          "start_time": "2024-08-11T13:20:40.172673",
          "status": "completed"
        },
        "tags": [],
        "id": "d485e4c5",
        "outputId": "afd7333b-038c-4303-d68f-5c2edacd9ff8"
      },
      "outputs": [
        {
          "name": "stderr",
          "output_type": "stream",
          "text": [
            "2024-08-11 13:20:43.853547: E external/local_xla/xla/stream_executor/cuda/cuda_dnn.cc:9261] Unable to register cuDNN factory: Attempting to register factory for plugin cuDNN when one has already been registered\n",
            "2024-08-11 13:20:43.853696: E external/local_xla/xla/stream_executor/cuda/cuda_fft.cc:607] Unable to register cuFFT factory: Attempting to register factory for plugin cuFFT when one has already been registered\n",
            "2024-08-11 13:20:43.978969: E external/local_xla/xla/stream_executor/cuda/cuda_blas.cc:1515] Unable to register cuBLAS factory: Attempting to register factory for plugin cuBLAS when one has already been registered\n"
          ]
        }
      ],
      "source": [
        "import numpy as np\n",
        "import pandas as pd\n",
        "import os\n",
        "import matplotlib.pyplot as plt\n",
        "import seaborn as sns\n",
        "from glob import glob\n",
        "import random\n",
        "import tensorflow as tf\n",
        "plt.style.use('ggplot')\n",
        "import warnings\n",
        "warnings.filterwarnings(\"ignore\")"
      ]
    },
    {
      "cell_type": "code",
      "execution_count": null,
      "id": "07591d7f",
      "metadata": {
        "execution": {
          "iopub.execute_input": "2024-08-11T13:20:53.729274Z",
          "iopub.status.busy": "2024-08-11T13:20:53.728305Z",
          "iopub.status.idle": "2024-08-11T13:20:54.169100Z",
          "shell.execute_reply": "2024-08-11T13:20:54.168164Z"
        },
        "papermill": {
          "duration": 0.449825,
          "end_time": "2024-08-11T13:20:54.171152",
          "exception": false,
          "start_time": "2024-08-11T13:20:53.721327",
          "status": "completed"
        },
        "tags": [],
        "id": "07591d7f",
        "outputId": "6bbbca6d-77df-4d1f-bcf3-a788e8fae3d1"
      },
      "outputs": [
        {
          "data": {
            "text/html": [
              "<div>\n",
              "<style scoped>\n",
              "    .dataframe tbody tr th:only-of-type {\n",
              "        vertical-align: middle;\n",
              "    }\n",
              "\n",
              "    .dataframe tbody tr th {\n",
              "        vertical-align: top;\n",
              "    }\n",
              "\n",
              "    .dataframe thead th {\n",
              "        text-align: right;\n",
              "    }\n",
              "</style>\n",
              "<table border=\"1\" class=\"dataframe\">\n",
              "  <thead>\n",
              "    <tr style=\"text-align: right;\">\n",
              "      <th></th>\n",
              "      <th>id</th>\n",
              "      <th>target</th>\n",
              "    </tr>\n",
              "  </thead>\n",
              "  <tbody>\n",
              "    <tr>\n",
              "      <th>0</th>\n",
              "      <td>00000e74ad</td>\n",
              "      <td>1</td>\n",
              "    </tr>\n",
              "    <tr>\n",
              "      <th>1</th>\n",
              "      <td>00001f4945</td>\n",
              "      <td>0</td>\n",
              "    </tr>\n",
              "    <tr>\n",
              "      <th>2</th>\n",
              "      <td>0000661522</td>\n",
              "      <td>0</td>\n",
              "    </tr>\n",
              "    <tr>\n",
              "      <th>3</th>\n",
              "      <td>00007a006a</td>\n",
              "      <td>0</td>\n",
              "    </tr>\n",
              "    <tr>\n",
              "      <th>4</th>\n",
              "      <td>0000a38978</td>\n",
              "      <td>1</td>\n",
              "    </tr>\n",
              "  </tbody>\n",
              "</table>\n",
              "</div>"
            ],
            "text/plain": [
              "           id  target\n",
              "0  00000e74ad       1\n",
              "1  00001f4945       0\n",
              "2  0000661522       0\n",
              "3  00007a006a       0\n",
              "4  0000a38978       1"
            ]
          },
          "metadata": {},
          "output_type": "display_data"
        }
      ],
      "source": [
        "labels = pd.read_csv(\"../input/g2net-gravitational-wave-detection/training_labels.csv\")\n",
        "display(labels.head())"
      ]
    },
    {
      "cell_type": "code",
      "execution_count": null,
      "id": "4c0ece5d",
      "metadata": {
        "execution": {
          "iopub.execute_input": "2024-08-11T13:20:54.184143Z",
          "iopub.status.busy": "2024-08-11T13:20:54.183814Z",
          "iopub.status.idle": "2024-08-11T13:21:20.520651Z",
          "shell.execute_reply": "2024-08-11T13:21:20.519430Z"
        },
        "papermill": {
          "duration": 26.346052,
          "end_time": "2024-08-11T13:21:20.523152",
          "exception": false,
          "start_time": "2024-08-11T13:20:54.177100",
          "status": "completed"
        },
        "tags": [],
        "id": "4c0ece5d",
        "outputId": "e45d6948-3fce-447f-887e-3fe47ddf68f2"
      },
      "outputs": [
        {
          "name": "stdout",
          "output_type": "stream",
          "text": [
            "Requirement already satisfied: optree in /opt/conda/lib/python3.10/site-packages (0.12.1)\r\n",
            "Requirement already satisfied: typing-extensions>=4.5.0 in /opt/conda/lib/python3.10/site-packages (from optree) (4.9.0)\r\n",
            "Collecting nnAudio\r\n",
            "  Downloading nnAudio-0.3.3-py3-none-any.whl.metadata (771 bytes)\r\n",
            "Requirement already satisfied: scipy>=1.2.0 in /opt/conda/lib/python3.10/site-packages (from nnAudio) (1.11.4)\r\n",
            "Requirement already satisfied: numpy>=1.14.5 in /opt/conda/lib/python3.10/site-packages (from nnAudio) (1.26.4)\r\n",
            "Requirement already satisfied: torch>=1.6.0 in /opt/conda/lib/python3.10/site-packages (from nnAudio) (2.1.2)\r\n",
            "Requirement already satisfied: filelock in /opt/conda/lib/python3.10/site-packages (from torch>=1.6.0->nnAudio) (3.13.1)\r\n",
            "Requirement already satisfied: typing-extensions in /opt/conda/lib/python3.10/site-packages (from torch>=1.6.0->nnAudio) (4.9.0)\r\n",
            "Requirement already satisfied: sympy in /opt/conda/lib/python3.10/site-packages (from torch>=1.6.0->nnAudio) (1.13.0)\r\n",
            "Requirement already satisfied: networkx in /opt/conda/lib/python3.10/site-packages (from torch>=1.6.0->nnAudio) (3.2.1)\r\n",
            "Requirement already satisfied: jinja2 in /opt/conda/lib/python3.10/site-packages (from torch>=1.6.0->nnAudio) (3.1.2)\r\n",
            "Requirement already satisfied: fsspec in /opt/conda/lib/python3.10/site-packages (from torch>=1.6.0->nnAudio) (2024.5.0)\r\n",
            "Requirement already satisfied: MarkupSafe>=2.0 in /opt/conda/lib/python3.10/site-packages (from jinja2->torch>=1.6.0->nnAudio) (2.1.3)\r\n",
            "Requirement already satisfied: mpmath<1.4,>=1.1.0 in /opt/conda/lib/python3.10/site-packages (from sympy->torch>=1.6.0->nnAudio) (1.3.0)\r\n",
            "Downloading nnAudio-0.3.3-py3-none-any.whl (43 kB)\r\n",
            "\u001b[2K   \u001b[90m━━━━━━━━━━━━━━━━━━━━━━━━━━━━━━━━━━━━━━━━\u001b[0m \u001b[32m43.6/43.6 kB\u001b[0m \u001b[31m2.6 MB/s\u001b[0m eta \u001b[36m0:00:00\u001b[0m\r\n",
            "\u001b[?25hInstalling collected packages: nnAudio\r\n",
            "Successfully installed nnAudio-0.3.3\r\n"
          ]
        }
      ],
      "source": [
        "! pip install optree\n",
        "! pip install nnAudio"
      ]
    },
    {
      "cell_type": "code",
      "execution_count": null,
      "id": "ee7435c7",
      "metadata": {
        "execution": {
          "iopub.execute_input": "2024-08-11T13:21:20.538147Z",
          "iopub.status.busy": "2024-08-11T13:21:20.537805Z",
          "iopub.status.idle": "2024-08-11T13:21:24.488866Z",
          "shell.execute_reply": "2024-08-11T13:21:24.488081Z"
        },
        "papermill": {
          "duration": 3.961152,
          "end_time": "2024-08-11T13:21:24.491198",
          "exception": false,
          "start_time": "2024-08-11T13:21:20.530046",
          "status": "completed"
        },
        "tags": [],
        "id": "ee7435c7"
      },
      "outputs": [],
      "source": [
        "from sklearn.model_selection import train_test_split\n",
        "\n",
        "from tensorflow import keras\n",
        "from keras.utils import Sequence\n",
        "from keras.models import Sequential\n",
        "from keras.layers import Dense, Dropout, Flatten, Conv1D, MaxPool1D, BatchNormalization\n",
        "from keras.optimizers import RMSprop,Adam\n",
        "import torch # For deep learning\n",
        "from nnAudio.Spectrogram import CQT1992v2 # For creating Constant-Q Transform spectrograms\n",
        "import math\n",
        "from random import shuffle\n",
        "\n",
        "import warnings\n",
        "warnings.filterwarnings(\"ignore\")"
      ]
    },
    {
      "cell_type": "code",
      "execution_count": null,
      "id": "7215e165",
      "metadata": {
        "execution": {
          "iopub.execute_input": "2024-08-11T13:21:24.507333Z",
          "iopub.status.busy": "2024-08-11T13:21:24.506659Z",
          "iopub.status.idle": "2024-08-11T13:21:24.521533Z",
          "shell.execute_reply": "2024-08-11T13:21:24.520616Z"
        },
        "papermill": {
          "duration": 0.025076,
          "end_time": "2024-08-11T13:21:24.523615",
          "exception": false,
          "start_time": "2024-08-11T13:21:24.498539",
          "status": "completed"
        },
        "tags": [],
        "id": "7215e165"
      },
      "outputs": [],
      "source": [
        "class DataGenerator(Sequence):\n",
        "    def __init__(self, path, list_IDs, data, batch_size):\n",
        "        self.path = path\n",
        "        self.list_IDs = list_IDs\n",
        "        self.data = data\n",
        "        self.batch_size = batch_size\n",
        "        self.indexes = np.arange(len(self.list_IDs))\n",
        "\n",
        "    def __len__(self):\n",
        "        len_ = int(len(self.list_IDs)/self.batch_size)\n",
        "        if len_*self.batch_size < len(self.list_IDs):\n",
        "            len_ += 1\n",
        "        return len_\n",
        "\n",
        "    def __getitem__(self, index):\n",
        "        indexes = self.indexes[index*self.batch_size:(index+1)*self.batch_size]\n",
        "        list_IDs_temp = [self.list_IDs[k] for k in indexes]\n",
        "        X, y = self.__data_generation(list_IDs_temp)\n",
        "        return X, y\n",
        "\n",
        "    def __data_generation(self, list_IDs_temp):\n",
        "        X = np.zeros((self.batch_size, 69, 193))\n",
        "        y = np.zeros((self.batch_size, 1))\n",
        "        for i, ID in enumerate(list_IDs_temp):\n",
        "            id_ = self.data.loc[ID, 'id']\n",
        "            file = id_+'.npy'\n",
        "            path_in = '/'.join([self.path, id_[0], id_[1], id_[2]])+'/'\n",
        "            data_array = np.load(path_in+file)\n",
        "            #np.hstack() apiles arrays in a horizontal way\n",
        "            waves = np.hstack(data_array)\n",
        "            #normalize\n",
        "            waves = waves / np.max(waves)\n",
        "            #we do a pytorch tensor and convert it into float\n",
        "            waves = torch.from_numpy(waves).float()\n",
        "            transform=CQT1992v2(sr=2048, fmin=20, fmax=1024, hop_length=64, verbose = False)\n",
        "            #Q-transform\n",
        "            image = transform(waves)\n",
        "            #We turn it back into a numpy array\n",
        "            image = np.array(image)\n",
        "            #transpose axes into (1,2,0)\n",
        "            image = np.transpose(image,(1,2,0))\n",
        "            # this creates an array(69, 193, 1) (an image in which the model can identify a signal)\n",
        "            # and then we create a pack of images corresponding to the batch size\n",
        "            # so the input_shape of the CNN must be (69, 193).\n",
        "            X[i, ] = image[:,:,0]\n",
        "            y[i, ] = self.data.loc[ID, 'target']\n",
        "        X = np.stack(X)\n",
        "        y = np.stack(y)\n",
        "        return X, y"
      ]
    },
    {
      "cell_type": "code",
      "execution_count": null,
      "id": "68b43998",
      "metadata": {
        "execution": {
          "iopub.execute_input": "2024-08-11T13:21:24.539117Z",
          "iopub.status.busy": "2024-08-11T13:21:24.538751Z",
          "iopub.status.idle": "2024-08-11T13:21:24.543691Z",
          "shell.execute_reply": "2024-08-11T13:21:24.542789Z"
        },
        "papermill": {
          "duration": 0.015014,
          "end_time": "2024-08-11T13:21:24.545640",
          "exception": false,
          "start_time": "2024-08-11T13:21:24.530626",
          "status": "completed"
        },
        "tags": [],
        "id": "68b43998"
      },
      "outputs": [],
      "source": [
        "import pandas as pd\n",
        "import random\n",
        "from itertools import cycle\n",
        "\n",
        "\n",
        "#the train dataset is split in 16 files (0,1,2,...,e,f) and we will use all of this files separately\n",
        "directorio = cycle(['0', '1', '2', '3', '4', '5', '6', '7', '8', '9', 'a', 'b', 'c', 'd', 'e', 'f'])"
      ]
    },
    {
      "cell_type": "code",
      "execution_count": null,
      "id": "c336194a",
      "metadata": {
        "execution": {
          "iopub.execute_input": "2024-08-11T13:21:24.561127Z",
          "iopub.status.busy": "2024-08-11T13:21:24.560784Z",
          "iopub.status.idle": "2024-08-11T13:21:36.638746Z",
          "shell.execute_reply": "2024-08-11T13:21:36.637766Z"
        },
        "papermill": {
          "duration": 12.0884,
          "end_time": "2024-08-11T13:21:36.641187",
          "exception": false,
          "start_time": "2024-08-11T13:21:24.552787",
          "status": "completed"
        },
        "tags": [],
        "id": "c336194a",
        "outputId": "2db02f1d-afa2-47df-f7d9-3b12aa4f2eee"
      },
      "outputs": [
        {
          "name": "stdout",
          "output_type": "stream",
          "text": [
            "Requirement already satisfied: scikit-optimize in /opt/conda/lib/python3.10/site-packages (0.10.2)\r\n",
            "Requirement already satisfied: joblib>=0.11 in /opt/conda/lib/python3.10/site-packages (from scikit-optimize) (1.4.2)\r\n",
            "Requirement already satisfied: pyaml>=16.9 in /opt/conda/lib/python3.10/site-packages (from scikit-optimize) (24.4.0)\r\n",
            "Requirement already satisfied: numpy>=1.20.3 in /opt/conda/lib/python3.10/site-packages (from scikit-optimize) (1.26.4)\r\n",
            "Requirement already satisfied: scipy>=1.1.0 in /opt/conda/lib/python3.10/site-packages (from scikit-optimize) (1.11.4)\r\n",
            "Requirement already satisfied: scikit-learn>=1.0.0 in /opt/conda/lib/python3.10/site-packages (from scikit-optimize) (1.2.2)\r\n",
            "Requirement already satisfied: packaging>=21.3 in /opt/conda/lib/python3.10/site-packages (from scikit-optimize) (21.3)\r\n",
            "Requirement already satisfied: pyparsing!=3.0.5,>=2.0.2 in /opt/conda/lib/python3.10/site-packages (from packaging>=21.3->scikit-optimize) (3.1.1)\r\n",
            "Requirement already satisfied: PyYAML in /opt/conda/lib/python3.10/site-packages (from pyaml>=16.9->scikit-optimize) (6.0.1)\r\n",
            "Requirement already satisfied: threadpoolctl>=2.0.0 in /opt/conda/lib/python3.10/site-packages (from scikit-learn>=1.0.0->scikit-optimize) (3.2.0)\r\n"
          ]
        }
      ],
      "source": [
        "#this is the Bayesian Optimization library\n",
        "!pip install scikit-optimize"
      ]
    },
    {
      "cell_type": "code",
      "execution_count": null,
      "id": "e8865cf8",
      "metadata": {
        "execution": {
          "iopub.execute_input": "2024-08-11T13:21:36.657197Z",
          "iopub.status.busy": "2024-08-11T13:21:36.656866Z",
          "iopub.status.idle": "2024-08-11T13:21:36.927289Z",
          "shell.execute_reply": "2024-08-11T13:21:36.926468Z"
        },
        "papermill": {
          "duration": 0.280992,
          "end_time": "2024-08-11T13:21:36.929617",
          "exception": false,
          "start_time": "2024-08-11T13:21:36.648625",
          "status": "completed"
        },
        "tags": [],
        "id": "e8865cf8"
      },
      "outputs": [],
      "source": [
        "import skopt\n",
        "from skopt import gp_minimize\n",
        "from skopt.space import Real, Integer, Categorical\n",
        "\n",
        "#we will study the logarithm of the number of neurons (base 2) and the number of dense layers\n",
        "dim_log_width = Integer(low=4, high=8, name='log_width')\n",
        "dim_layers = Integer(low=1, high=5, name='layers')\n",
        "dimensions = [dim_log_width, dim_layers]\n",
        "\n",
        "# The reason why I use numbers in between 2^4 and 2^8 in log_width is\n",
        "# that the model becomes unstable for higher widths\n",
        "# because each call only uses a small fragment of the dataset. Maybe if we used\n",
        "# all the dataset for every call, we would obtain better results, but I don't\n",
        "# have enough computational resources for that (it is too expensive)."
      ]
    },
    {
      "cell_type": "code",
      "execution_count": null,
      "id": "343e7f7d",
      "metadata": {
        "execution": {
          "iopub.execute_input": "2024-08-11T13:21:36.945764Z",
          "iopub.status.busy": "2024-08-11T13:21:36.945206Z",
          "iopub.status.idle": "2024-08-11T13:21:36.956104Z",
          "shell.execute_reply": "2024-08-11T13:21:36.955291Z"
        },
        "papermill": {
          "duration": 0.020838,
          "end_time": "2024-08-11T13:21:36.957991",
          "exception": false,
          "start_time": "2024-08-11T13:21:36.937153",
          "status": "completed"
        },
        "tags": [],
        "id": "343e7f7d"
      },
      "outputs": [],
      "source": [
        "#These vectors just keep track of the width, layers studied in every step with its accuracy.\n",
        "#I have used these values for a plot that shows how gp_minimize explores the hyperparameter space.\n",
        "log_width_history = []\n",
        "layers_history = []\n",
        "acc_history = []\n",
        "\n",
        "\n",
        "def train(params):\n",
        "    #every call will use the next file\n",
        "    directori = next(directorio)\n",
        "    #This selects the file of the dataset\n",
        "    train_idx = labels[labels['id'].str.startswith(directori)]['id'].values\n",
        "    y = labels[labels['id'].isin(train_idx)]['target'].values\n",
        "    #params is a vector with the dimensions (log_width, layers)\n",
        "    print(params)\n",
        "    log_width, layers = params\n",
        "    log_width_history.append(log_width)\n",
        "    layers_history.append(layers)\n",
        "\n",
        "    #Generating the training and validation data\n",
        "    train_idx, train_Valx = train_test_split(list(labels[labels['id'].str.startswith(directori)].index), test_size=0.2, random_state=2021)\n",
        "    train_generator = DataGenerator('/kaggle/input/g2net-gravitational-wave-detection/train/', train_idx, labels[labels['id'].str.startswith(directori)], 256)\n",
        "    val_generator = DataGenerator('/kaggle/input/g2net-gravitational-wave-detection/train/', train_Valx, labels[labels['id'].str.startswith(directori)], 256)\n",
        "\n",
        "    # Building the model\n",
        "    model = Sequential()\n",
        "    model.add(Conv1D(2**log_width, input_shape=(69, 193,), kernel_size=3, activation='relu'))\n",
        "    model.add(BatchNormalization())\n",
        "    model.add(Flatten())\n",
        "    for i in range(layers):\n",
        "        model.add(Dense(2**log_width, activation='relu'))\n",
        "    model.add(Dense(1, activation='sigmoid'))\n",
        "    model.compile(optimizer=Adam(learning_rate=2e-4), loss='binary_crossentropy', metrics=['accuracy'])\n",
        "\n",
        "    # Training the model\n",
        "    history = model.fit(train_generator, validation_data=val_generator, epochs=1)\n",
        "\n",
        "    # We evaluate the model's performance\n",
        "    val_loss, val_accuracy = model.evaluate(val_generator)\n",
        "    acc_history.append(val_accuracy)\n",
        "    # It returns the metrics that we want to optimize with gp_minimize\n",
        "    return -val_accuracy"
      ]
    },
    {
      "cell_type": "code",
      "execution_count": null,
      "id": "3bc00ffd",
      "metadata": {
        "execution": {
          "iopub.execute_input": "2024-08-11T13:21:36.973489Z",
          "iopub.status.busy": "2024-08-11T13:21:36.973222Z",
          "iopub.status.idle": "2024-08-11T13:21:36.976847Z",
          "shell.execute_reply": "2024-08-11T13:21:36.976096Z"
        },
        "papermill": {
          "duration": 0.013433,
          "end_time": "2024-08-11T13:21:36.978623",
          "exception": false,
          "start_time": "2024-08-11T13:21:36.965190",
          "status": "completed"
        },
        "tags": [],
        "id": "3bc00ffd"
      },
      "outputs": [],
      "source": [
        "#Choosing our prior (the first set of hyperparameters studied)\n",
        "default_parameters = [5, 1]"
      ]
    },
    {
      "cell_type": "code",
      "execution_count": null,
      "id": "2f43a2e6",
      "metadata": {
        "execution": {
          "iopub.execute_input": "2024-08-11T13:21:36.994804Z",
          "iopub.status.busy": "2024-08-11T13:21:36.994512Z",
          "iopub.status.idle": "2024-08-11T17:03:19.924898Z",
          "shell.execute_reply": "2024-08-11T17:03:19.924078Z"
        },
        "papermill": {
          "duration": 13302.941237,
          "end_time": "2024-08-11T17:03:19.927836",
          "exception": false,
          "start_time": "2024-08-11T13:21:36.986599",
          "status": "completed"
        },
        "tags": [],
        "id": "2f43a2e6",
        "outputId": "09ba07a0-b5e3-48b7-83a5-d0d73cf439d7"
      },
      "outputs": [
        {
          "name": "stdout",
          "output_type": "stream",
          "text": [
            "[5, 1]\n",
            "\u001b[1m  1/110\u001b[0m \u001b[37m━━━━━━━━━━━━━━━━━━━━\u001b[0m \u001b[1m1:21:39\u001b[0m 45s/step - accuracy: 0.4531 - loss: 1.0656"
          ]
        },
        {
          "name": "stderr",
          "output_type": "stream",
          "text": [
            "WARNING: All log messages before absl::InitializeLog() is called are written to STDERR\n",
            "I0000 00:00:1723382554.123792      82 device_compiler.h:186] Compiled cluster using XLA!  This line is logged at most once for the lifetime of the process.\n"
          ]
        },
        {
          "name": "stdout",
          "output_type": "stream",
          "text": [
            "\u001b[1m110/110\u001b[0m \u001b[32m━━━━━━━━━━━━━━━━━━━━\u001b[0m\u001b[37m\u001b[0m \u001b[1m676s\u001b[0m 6s/step - accuracy: 0.5114 - loss: 0.7437 - val_accuracy: 0.5100 - val_loss: 0.6892\n",
            "\u001b[1m28/28\u001b[0m \u001b[32m━━━━━━━━━━━━━━━━━━━━\u001b[0m\u001b[37m\u001b[0m \u001b[1m104s\u001b[0m 4s/step - accuracy: 0.4940 - loss: 0.6896\n",
            "[5, 5]\n",
            "\u001b[1m111/111\u001b[0m \u001b[32m━━━━━━━━━━━━━━━━━━━━\u001b[0m\u001b[37m\u001b[0m \u001b[1m666s\u001b[0m 6s/step - accuracy: 0.5198 - loss: 0.6908 - val_accuracy: 0.6218 - val_loss: 0.6878\n",
            "\u001b[1m28/28\u001b[0m \u001b[32m━━━━━━━━━━━━━━━━━━━━\u001b[0m\u001b[37m\u001b[0m \u001b[1m102s\u001b[0m 4s/step - accuracy: 0.6327 - loss: 0.6874\n",
            "[6, 1]\n",
            "\u001b[1m109/109\u001b[0m \u001b[32m━━━━━━━━━━━━━━━━━━━━\u001b[0m\u001b[37m\u001b[0m \u001b[1m668s\u001b[0m 6s/step - accuracy: 0.5335 - loss: 0.7081 - val_accuracy: 0.5116 - val_loss: 0.6845\n",
            "\u001b[1m28/28\u001b[0m \u001b[32m━━━━━━━━━━━━━━━━━━━━\u001b[0m\u001b[37m\u001b[0m \u001b[1m101s\u001b[0m 4s/step - accuracy: 0.5021 - loss: 0.6842\n",
            "[6, 4]\n",
            "\u001b[1m110/110\u001b[0m \u001b[32m━━━━━━━━━━━━━━━━━━━━\u001b[0m\u001b[37m\u001b[0m \u001b[1m675s\u001b[0m 6s/step - accuracy: 0.5290 - loss: 0.6886 - val_accuracy: 0.6639 - val_loss: 0.6811\n",
            "\u001b[1m28/28\u001b[0m \u001b[32m━━━━━━━━━━━━━━━━━━━━\u001b[0m\u001b[37m\u001b[0m \u001b[1m101s\u001b[0m 4s/step - accuracy: 0.6623 - loss: 0.6814\n",
            "[8, 2]\n",
            "\u001b[1m  1/109\u001b[0m \u001b[37m━━━━━━━━━━━━━━━━━━━━\u001b[0m \u001b[1m1:21:04\u001b[0m 45s/step - accuracy: 0.4844 - loss: 0.7258"
          ]
        },
        {
          "name": "stderr",
          "output_type": "stream",
          "text": [
            "W0000 00:00:1723385720.762088      80 graph_launch.cc:671] Fallback to op-by-op mode because memset node breaks graph update\n"
          ]
        },
        {
          "name": "stdout",
          "output_type": "stream",
          "text": [
            "\u001b[1m106/109\u001b[0m \u001b[32m━━━━━━━━━━━━━━━━━━━\u001b[0m\u001b[37m━\u001b[0m \u001b[1m14s\u001b[0m 5s/step - accuracy: 0.5261 - loss: 0.7378"
          ]
        },
        {
          "name": "stderr",
          "output_type": "stream",
          "text": [
            "W0000 00:00:1723386248.061883      81 graph_launch.cc:671] Fallback to op-by-op mode because memset node breaks graph update\n"
          ]
        },
        {
          "name": "stdout",
          "output_type": "stream",
          "text": [
            "\u001b[1m109/109\u001b[0m \u001b[32m━━━━━━━━━━━━━━━━━━━━\u001b[0m\u001b[37m\u001b[0m \u001b[1m705s\u001b[0m 6s/step - accuracy: 0.5280 - loss: 0.7356 - val_accuracy: 0.5844 - val_loss: 0.6808\n",
            "\u001b[1m28/28\u001b[0m \u001b[32m━━━━━━━━━━━━━━━━━━━━\u001b[0m\u001b[37m\u001b[0m \u001b[1m101s\u001b[0m 4s/step - accuracy: 0.5692 - loss: 0.6816\n",
            "[4, 4]\n",
            "\u001b[1m108/108\u001b[0m \u001b[32m━━━━━━━━━━━━━━━━━━━━\u001b[0m\u001b[37m\u001b[0m \u001b[1m696s\u001b[0m 6s/step - accuracy: 0.4991 - loss: 0.6961 - val_accuracy: 0.4915 - val_loss: 0.6933\n",
            "\u001b[1m27/27\u001b[0m \u001b[32m━━━━━━━━━━━━━━━━━━━━\u001b[0m\u001b[37m\u001b[0m \u001b[1m102s\u001b[0m 4s/step - accuracy: 0.4974 - loss: 0.6932\n",
            "[4, 5]\n",
            "\u001b[1m109/109\u001b[0m \u001b[32m━━━━━━━━━━━━━━━━━━━━\u001b[0m\u001b[37m\u001b[0m \u001b[1m712s\u001b[0m 6s/step - accuracy: 0.5001 - loss: 0.6937 - val_accuracy: 0.4859 - val_loss: 0.6933\n",
            "\u001b[1m28/28\u001b[0m \u001b[32m━━━━━━━━━━━━━━━━━━━━\u001b[0m\u001b[37m\u001b[0m \u001b[1m103s\u001b[0m 4s/step - accuracy: 0.4937 - loss: 0.6932\n",
            "[5, 3]\n",
            "\u001b[1m110/110\u001b[0m \u001b[32m━━━━━━━━━━━━━━━━━━━━\u001b[0m\u001b[37m\u001b[0m \u001b[1m724s\u001b[0m 6s/step - accuracy: 0.5304 - loss: 0.6891 - val_accuracy: 0.5582 - val_loss: 0.6853\n",
            "\u001b[1m28/28\u001b[0m \u001b[32m━━━━━━━━━━━━━━━━━━━━\u001b[0m\u001b[37m\u001b[0m \u001b[1m100s\u001b[0m 4s/step - accuracy: 0.5507 - loss: 0.6848\n",
            "[6, 5]\n",
            "\u001b[1m110/110\u001b[0m \u001b[32m━━━━━━━━━━━━━━━━━━━━\u001b[0m\u001b[37m\u001b[0m \u001b[1m727s\u001b[0m 6s/step - accuracy: 0.5315 - loss: 0.6850 - val_accuracy: 0.6438 - val_loss: 0.6728\n",
            "\u001b[1m28/28\u001b[0m \u001b[32m━━━━━━━━━━━━━━━━━━━━\u001b[0m\u001b[37m\u001b[0m \u001b[1m101s\u001b[0m 4s/step - accuracy: 0.6482 - loss: 0.6721\n",
            "[8, 1]\n",
            "\u001b[1m  1/111\u001b[0m \u001b[37m━━━━━━━━━━━━━━━━━━━━\u001b[0m \u001b[1m1:19:39\u001b[0m 43s/step - accuracy: 0.4414 - loss: 0.8514"
          ]
        },
        {
          "name": "stderr",
          "output_type": "stream",
          "text": [
            "W0000 00:00:1723389886.683779      81 graph_launch.cc:671] Fallback to op-by-op mode because memset node breaks graph update\n"
          ]
        },
        {
          "name": "stdout",
          "output_type": "stream",
          "text": [
            "\u001b[1m108/111\u001b[0m \u001b[32m━━━━━━━━━━━━━━━━━━━\u001b[0m\u001b[37m━\u001b[0m \u001b[1m15s\u001b[0m 5s/step - accuracy: 0.5083 - loss: 0.8806"
          ]
        },
        {
          "name": "stderr",
          "output_type": "stream",
          "text": [
            "W0000 00:00:1723390444.525970      81 graph_launch.cc:671] Fallback to op-by-op mode because memset node breaks graph update\n"
          ]
        },
        {
          "name": "stdout",
          "output_type": "stream",
          "text": [
            "\u001b[1m111/111\u001b[0m \u001b[32m━━━━━━━━━━━━━━━━━━━━\u001b[0m\u001b[37m\u001b[0m \u001b[1m738s\u001b[0m 6s/step - accuracy: 0.5098 - loss: 0.8751 - val_accuracy: 0.5300 - val_loss: 0.6860\n",
            "\u001b[1m28/28\u001b[0m \u001b[32m━━━━━━━━━━━━━━━━━━━━\u001b[0m\u001b[37m\u001b[0m \u001b[1m99s\u001b[0m 4s/step - accuracy: 0.5291 - loss: 0.6859\n",
            "[5, 4]\n",
            "\u001b[1m110/110\u001b[0m \u001b[32m━━━━━━━━━━━━━━━━━━━━\u001b[0m\u001b[37m\u001b[0m \u001b[1m730s\u001b[0m 6s/step - accuracy: 0.5128 - loss: 0.6920 - val_accuracy: 0.5310 - val_loss: 0.6881\n",
            "\u001b[1m28/28\u001b[0m \u001b[32m━━━━━━━━━━━━━━━━━━━━\u001b[0m\u001b[37m\u001b[0m \u001b[1m101s\u001b[0m 4s/step - accuracy: 0.5176 - loss: 0.6886\n",
            "[7, 5]\n",
            "\u001b[1m  1/109\u001b[0m \u001b[37m━━━━━━━━━━━━━━━━━━━━\u001b[0m \u001b[1m1:25:39\u001b[0m 48s/step - accuracy: 0.4531 - loss: 0.6975"
          ]
        },
        {
          "name": "stderr",
          "output_type": "stream",
          "text": [
            "W0000 00:00:1723391597.149392      81 graph_launch.cc:671] Fallback to op-by-op mode because memset node breaks graph update\n"
          ]
        },
        {
          "name": "stdout",
          "output_type": "stream",
          "text": [
            "\u001b[1m107/109\u001b[0m \u001b[32m━━━━━━━━━━━━━━━━━━━\u001b[0m\u001b[37m━\u001b[0m \u001b[1m9s\u001b[0m 5s/step - accuracy: 0.5349 - loss: 0.6825 "
          ]
        },
        {
          "name": "stderr",
          "output_type": "stream",
          "text": [
            "W0000 00:00:1723392137.908127      82 graph_launch.cc:671] Fallback to op-by-op mode because memset node breaks graph update\n"
          ]
        },
        {
          "name": "stdout",
          "output_type": "stream",
          "text": [
            "\u001b[1m109/109\u001b[0m \u001b[32m━━━━━━━━━━━━━━━━━━━━\u001b[0m\u001b[37m\u001b[0m \u001b[1m723s\u001b[0m 6s/step - accuracy: 0.5364 - loss: 0.6817 - val_accuracy: 0.5820 - val_loss: 0.6803\n",
            "\u001b[1m28/28\u001b[0m \u001b[32m━━━━━━━━━━━━━━━━━━━━\u001b[0m\u001b[37m\u001b[0m \u001b[1m101s\u001b[0m 4s/step - accuracy: 0.5620 - loss: 0.6813\n",
            "[6, 3]\n",
            "\u001b[1m110/110\u001b[0m \u001b[32m━━━━━━━━━━━━━━━━━━━━\u001b[0m\u001b[37m\u001b[0m \u001b[1m732s\u001b[0m 6s/step - accuracy: 0.5380 - loss: 0.6848 - val_accuracy: 0.6642 - val_loss: 0.6781\n",
            "\u001b[1m28/28\u001b[0m \u001b[32m━━━━━━━━━━━━━━━━━━━━\u001b[0m\u001b[37m\u001b[0m \u001b[1m103s\u001b[0m 4s/step - accuracy: 0.6510 - loss: 0.6781\n",
            "[7, 4]\n",
            "\u001b[1m  1/111\u001b[0m \u001b[37m━━━━━━━━━━━━━━━━━━━━\u001b[0m \u001b[1m1:22:58\u001b[0m 45s/step - accuracy: 0.4688 - loss: 0.7173"
          ]
        },
        {
          "name": "stderr",
          "output_type": "stream",
          "text": [
            "W0000 00:00:1723393293.300654      83 graph_launch.cc:671] Fallback to op-by-op mode because memset node breaks graph update\n"
          ]
        },
        {
          "name": "stdout",
          "output_type": "stream",
          "text": [
            "\u001b[1m109/111\u001b[0m \u001b[32m━━━━━━━━━━━━━━━━━━━\u001b[0m\u001b[37m━\u001b[0m \u001b[1m9s\u001b[0m 5s/step - accuracy: 0.5432 - loss: 0.6873 "
          ]
        },
        {
          "name": "stderr",
          "output_type": "stream",
          "text": [
            "W0000 00:00:1723393837.358927      82 graph_launch.cc:671] Fallback to op-by-op mode because memset node breaks graph update\n"
          ]
        },
        {
          "name": "stdout",
          "output_type": "stream",
          "text": [
            "\u001b[1m111/111\u001b[0m \u001b[32m━━━━━━━━━━━━━━━━━━━━\u001b[0m\u001b[37m\u001b[0m \u001b[1m728s\u001b[0m 6s/step - accuracy: 0.5444 - loss: 0.6866 - val_accuracy: 0.6787 - val_loss: 0.6754\n",
            "\u001b[1m28/28\u001b[0m \u001b[32m━━━━━━━━━━━━━━━━━━━━\u001b[0m\u001b[37m\u001b[0m \u001b[1m100s\u001b[0m 4s/step - accuracy: 0.6730 - loss: 0.6758\n",
            "[7, 3]\n",
            "\u001b[1m  1/111\u001b[0m \u001b[37m━━━━━━━━━━━━━━━━━━━━\u001b[0m \u001b[1m1:14:00\u001b[0m 40s/step - accuracy: 0.4688 - loss: 0.7220"
          ]
        },
        {
          "name": "stderr",
          "output_type": "stream",
          "text": [
            "W0000 00:00:1723394136.943459      83 graph_launch.cc:671] Fallback to op-by-op mode because memset node breaks graph update\n"
          ]
        },
        {
          "name": "stdout",
          "output_type": "stream",
          "text": [
            "\u001b[1m109/111\u001b[0m \u001b[32m━━━━━━━━━━━━━━━━━━━\u001b[0m\u001b[37m━\u001b[0m \u001b[1m9s\u001b[0m 5s/step - accuracy: 0.5335 - loss: 0.6850 "
          ]
        },
        {
          "name": "stderr",
          "output_type": "stream",
          "text": [
            "W0000 00:00:1723394689.837342      81 graph_launch.cc:671] Fallback to op-by-op mode because memset node breaks graph update\n"
          ]
        },
        {
          "name": "stdout",
          "output_type": "stream",
          "text": [
            "\u001b[1m111/111\u001b[0m \u001b[32m━━━━━━━━━━━━━━━━━━━━\u001b[0m\u001b[37m\u001b[0m \u001b[1m737s\u001b[0m 6s/step - accuracy: 0.5351 - loss: 0.6840 - val_accuracy: 0.6865 - val_loss: 0.6703\n",
            "\u001b[1m28/28\u001b[0m \u001b[32m━━━━━━━━━━━━━━━━━━━━\u001b[0m\u001b[37m\u001b[0m \u001b[1m101s\u001b[0m 4s/step - accuracy: 0.6886 - loss: 0.6705\n",
            "[4, 3]\n",
            "\u001b[1m110/110\u001b[0m \u001b[32m━━━━━━━━━━━━━━━━━━━━\u001b[0m\u001b[37m\u001b[0m \u001b[1m738s\u001b[0m 6s/step - accuracy: 0.5151 - loss: 0.6928 - val_accuracy: 0.5290 - val_loss: 0.6912\n",
            "\u001b[1m28/28\u001b[0m \u001b[32m━━━━━━━━━━━━━━━━━━━━\u001b[0m\u001b[37m\u001b[0m \u001b[1m100s\u001b[0m 4s/step - accuracy: 0.5240 - loss: 0.6914\n"
          ]
        }
      ],
      "source": [
        "# EI (expected improcvement) ACQ function is the safest in this context. However, PI (probability of improvement)\n",
        "# can also be studied. It is a bit more agressive, but might work correctly as well.\n",
        "# There are more options for ACQ functions but I am not sure if they will work\n",
        "# Here we choose the number of times we want gp_minimize to call the training function.\n",
        "# Every call it will study a set of hyperparameters, and it will not use an already used\n",
        "# set of training data.\n",
        "search_result = gp_minimize(\n",
        "    func=train,\n",
        "    dimensions=dimensions,\n",
        "    acq_func='EI',\n",
        "    n_calls=16,\n",
        "    x0=default_parameters)"
      ]
    },
    {
      "cell_type": "code",
      "execution_count": null,
      "id": "6de45d6b",
      "metadata": {
        "execution": {
          "iopub.execute_input": "2024-08-11T17:03:20.292253Z",
          "iopub.status.busy": "2024-08-11T17:03:20.291370Z",
          "iopub.status.idle": "2024-08-11T17:03:20.298653Z",
          "shell.execute_reply": "2024-08-11T17:03:20.297808Z"
        },
        "papermill": {
          "duration": 0.192412,
          "end_time": "2024-08-11T17:03:20.300766",
          "exception": false,
          "start_time": "2024-08-11T17:03:20.108354",
          "status": "completed"
        },
        "tags": [],
        "id": "6de45d6b",
        "outputId": "dfe4208c-ee12-4e16-f972-484f177abf08"
      },
      "outputs": [
        {
          "name": "stdout",
          "output_type": "stream",
          "text": [
            "[7, 3]\n",
            "5 1 0.5100446343421936\n",
            "5 5 0.6217913031578064\n",
            "6 1 0.5115792155265808\n",
            "6 4 0.6639229655265808\n",
            "8 2 0.5844029188156128\n",
            "4 4 0.49146410822868347\n",
            "4 5 0.4859096109867096\n",
            "5 3 0.5581752061843872\n",
            "6 5 0.6438336968421936\n",
            "8 1 0.5299944281578064\n",
            "5 4 0.5309709906578064\n",
            "7 5 0.58203125\n",
            "6 3 0.6642020344734192\n",
            "7 4 0.6787109375\n",
            "7 3 0.6865234375\n",
            "4 3 0.5290178656578064\n"
          ]
        }
      ],
      "source": [
        "best_width = 2**(search_result.x[0])  # the best value of width obtained\n",
        "best_layers = search_result.x[1]  # the best value of layers obtained\n",
        "print(search_result.x)\n",
        "for i in range(len(acc_history)):\n",
        "    print(log_width_history[i], layers_history[i], acc_history[i])"
      ]
    },
    {
      "cell_type": "code",
      "execution_count": null,
      "id": "28f7afc7",
      "metadata": {
        "execution": {
          "iopub.execute_input": "2024-08-11T17:03:20.663834Z",
          "iopub.status.busy": "2024-08-11T17:03:20.662984Z",
          "iopub.status.idle": "2024-08-11T17:03:21.024383Z",
          "shell.execute_reply": "2024-08-11T17:03:21.023372Z"
        },
        "papermill": {
          "duration": 0.545387,
          "end_time": "2024-08-11T17:03:21.026741",
          "exception": false,
          "start_time": "2024-08-11T17:03:20.481354",
          "status": "completed"
        },
        "tags": [],
        "id": "28f7afc7"
      },
      "outputs": [],
      "source": [
        "sample_submission = pd.read_csv('../input/g2net-gravitational-wave-detection/sample_submission.csv')\n",
        "train_idx =  labels['id'].values\n",
        "y = labels['target'].values\n",
        "test_idx = sample_submission['id'].values\n",
        "train_idx, train_Valx = train_test_split(list(labels.index), test_size=0.05, random_state=2021)\n",
        "test_idx = list(sample_submission.index)"
      ]
    },
    {
      "cell_type": "code",
      "execution_count": null,
      "id": "f23ebd04",
      "metadata": {
        "execution": {
          "iopub.execute_input": "2024-08-11T17:03:21.387735Z",
          "iopub.status.busy": "2024-08-11T17:03:21.387121Z",
          "iopub.status.idle": "2024-08-11T17:03:21.392541Z",
          "shell.execute_reply": "2024-08-11T17:03:21.391742Z"
        },
        "papermill": {
          "duration": 0.188746,
          "end_time": "2024-08-11T17:03:21.394365",
          "exception": false,
          "start_time": "2024-08-11T17:03:21.205619",
          "status": "completed"
        },
        "tags": [],
        "id": "f23ebd04"
      },
      "outputs": [],
      "source": [
        "train_generator = DataGenerator('/kaggle/input/g2net-gravitational-wave-detection/train/', train_idx, labels, 256)\n",
        "val_generator = DataGenerator('/kaggle/input/g2net-gravitational-wave-detection/train/', train_Valx, labels, 256)\n",
        "test_generator = DataGenerator('/kaggle/input/g2net-gravitational-wave-detection/test/', test_idx, sample_submission, 256)"
      ]
    },
    {
      "cell_type": "code",
      "execution_count": null,
      "id": "1c535875",
      "metadata": {
        "execution": {
          "iopub.execute_input": "2024-08-11T17:03:21.749548Z",
          "iopub.status.busy": "2024-08-11T17:03:21.749204Z",
          "iopub.status.idle": "2024-08-11T17:03:21.839799Z",
          "shell.execute_reply": "2024-08-11T17:03:21.839078Z"
        },
        "papermill": {
          "duration": 0.270857,
          "end_time": "2024-08-11T17:03:21.841950",
          "exception": false,
          "start_time": "2024-08-11T17:03:21.571093",
          "status": "completed"
        },
        "tags": [],
        "id": "1c535875"
      },
      "outputs": [],
      "source": [
        "classical_model= Sequential()\n",
        "classical_model.add(Conv1D(best_width, input_shape=(69, 193,), kernel_size=3, activation='relu'))\n",
        "classical_model.add(BatchNormalization())\n",
        "classical_model.add(Flatten())\n",
        "for i in range(best_layers):\n",
        "    classical_model.add(Dense(best_width, activation='relu'))\n",
        "classical_model.add(Dense(1, activation='sigmoid'))\n",
        "classical_model.compile(optimizer=Adam(learning_rate=2e-4), loss='binary_crossentropy', metrics=['accuracy'])"
      ]
    },
    {
      "cell_type": "code",
      "execution_count": null,
      "id": "0ecb9fd5",
      "metadata": {
        "execution": {
          "iopub.execute_input": "2024-08-11T17:03:22.202749Z",
          "iopub.status.busy": "2024-08-11T17:03:22.202400Z",
          "iopub.status.idle": "2024-08-11T21:34:26.689655Z",
          "shell.execute_reply": "2024-08-11T21:34:26.688357Z"
        },
        "papermill": {
          "duration": 16264.672482,
          "end_time": "2024-08-11T21:34:26.693851",
          "exception": false,
          "start_time": "2024-08-11T17:03:22.021369",
          "status": "completed"
        },
        "tags": [],
        "id": "0ecb9fd5",
        "outputId": "bdabb8e2-6a65-4850-fdbc-05b466c17eb0"
      },
      "outputs": [
        {
          "data": {
            "text/html": [
              "<pre style=\"white-space:pre;overflow-x:auto;line-height:normal;font-family:Menlo,'DejaVu Sans Mono',consolas,'Courier New',monospace\"><span style=\"font-weight: bold\">Model: \"sequential_16\"</span>\n",
              "</pre>\n"
            ],
            "text/plain": [
              "\u001b[1mModel: \"sequential_16\"\u001b[0m\n"
            ]
          },
          "metadata": {},
          "output_type": "display_data"
        },
        {
          "data": {
            "text/html": [
              "<pre style=\"white-space:pre;overflow-x:auto;line-height:normal;font-family:Menlo,'DejaVu Sans Mono',consolas,'Courier New',monospace\">┏━━━━━━━━━━━━━━━━━━━━━━━━━━━━━━━━━┳━━━━━━━━━━━━━━━━━━━━━━━━┳━━━━━━━━━━━━━━━┓\n",
              "┃<span style=\"font-weight: bold\"> Layer (type)                    </span>┃<span style=\"font-weight: bold\"> Output Shape           </span>┃<span style=\"font-weight: bold\">       Param # </span>┃\n",
              "┡━━━━━━━━━━━━━━━━━━━━━━━━━━━━━━━━━╇━━━━━━━━━━━━━━━━━━━━━━━━╇━━━━━━━━━━━━━━━┩\n",
              "│ conv1d_16 (<span style=\"color: #0087ff; text-decoration-color: #0087ff\">Conv1D</span>)              │ (<span style=\"color: #00d7ff; text-decoration-color: #00d7ff\">None</span>, <span style=\"color: #00af00; text-decoration-color: #00af00\">67</span>, <span style=\"color: #00af00; text-decoration-color: #00af00\">128</span>)        │        <span style=\"color: #00af00; text-decoration-color: #00af00\">74,240</span> │\n",
              "├─────────────────────────────────┼────────────────────────┼───────────────┤\n",
              "│ batch_normalization_16          │ (<span style=\"color: #00d7ff; text-decoration-color: #00d7ff\">None</span>, <span style=\"color: #00af00; text-decoration-color: #00af00\">67</span>, <span style=\"color: #00af00; text-decoration-color: #00af00\">128</span>)        │           <span style=\"color: #00af00; text-decoration-color: #00af00\">512</span> │\n",
              "│ (<span style=\"color: #0087ff; text-decoration-color: #0087ff\">BatchNormalization</span>)            │                        │               │\n",
              "├─────────────────────────────────┼────────────────────────┼───────────────┤\n",
              "│ flatten_16 (<span style=\"color: #0087ff; text-decoration-color: #0087ff\">Flatten</span>)            │ (<span style=\"color: #00d7ff; text-decoration-color: #00d7ff\">None</span>, <span style=\"color: #00af00; text-decoration-color: #00af00\">8576</span>)           │             <span style=\"color: #00af00; text-decoration-color: #00af00\">0</span> │\n",
              "├─────────────────────────────────┼────────────────────────┼───────────────┤\n",
              "│ dense_69 (<span style=\"color: #0087ff; text-decoration-color: #0087ff\">Dense</span>)                │ (<span style=\"color: #00d7ff; text-decoration-color: #00d7ff\">None</span>, <span style=\"color: #00af00; text-decoration-color: #00af00\">128</span>)            │     <span style=\"color: #00af00; text-decoration-color: #00af00\">1,097,856</span> │\n",
              "├─────────────────────────────────┼────────────────────────┼───────────────┤\n",
              "│ dense_70 (<span style=\"color: #0087ff; text-decoration-color: #0087ff\">Dense</span>)                │ (<span style=\"color: #00d7ff; text-decoration-color: #00d7ff\">None</span>, <span style=\"color: #00af00; text-decoration-color: #00af00\">128</span>)            │        <span style=\"color: #00af00; text-decoration-color: #00af00\">16,512</span> │\n",
              "├─────────────────────────────────┼────────────────────────┼───────────────┤\n",
              "│ dense_71 (<span style=\"color: #0087ff; text-decoration-color: #0087ff\">Dense</span>)                │ (<span style=\"color: #00d7ff; text-decoration-color: #00d7ff\">None</span>, <span style=\"color: #00af00; text-decoration-color: #00af00\">128</span>)            │        <span style=\"color: #00af00; text-decoration-color: #00af00\">16,512</span> │\n",
              "├─────────────────────────────────┼────────────────────────┼───────────────┤\n",
              "│ dense_72 (<span style=\"color: #0087ff; text-decoration-color: #0087ff\">Dense</span>)                │ (<span style=\"color: #00d7ff; text-decoration-color: #00d7ff\">None</span>, <span style=\"color: #00af00; text-decoration-color: #00af00\">1</span>)              │           <span style=\"color: #00af00; text-decoration-color: #00af00\">129</span> │\n",
              "└─────────────────────────────────┴────────────────────────┴───────────────┘\n",
              "</pre>\n"
            ],
            "text/plain": [
              "┏━━━━━━━━━━━━━━━━━━━━━━━━━━━━━━━━━┳━━━━━━━━━━━━━━━━━━━━━━━━┳━━━━━━━━━━━━━━━┓\n",
              "┃\u001b[1m \u001b[0m\u001b[1mLayer (type)                   \u001b[0m\u001b[1m \u001b[0m┃\u001b[1m \u001b[0m\u001b[1mOutput Shape          \u001b[0m\u001b[1m \u001b[0m┃\u001b[1m \u001b[0m\u001b[1m      Param #\u001b[0m\u001b[1m \u001b[0m┃\n",
              "┡━━━━━━━━━━━━━━━━━━━━━━━━━━━━━━━━━╇━━━━━━━━━━━━━━━━━━━━━━━━╇━━━━━━━━━━━━━━━┩\n",
              "│ conv1d_16 (\u001b[38;5;33mConv1D\u001b[0m)              │ (\u001b[38;5;45mNone\u001b[0m, \u001b[38;5;34m67\u001b[0m, \u001b[38;5;34m128\u001b[0m)        │        \u001b[38;5;34m74,240\u001b[0m │\n",
              "├─────────────────────────────────┼────────────────────────┼───────────────┤\n",
              "│ batch_normalization_16          │ (\u001b[38;5;45mNone\u001b[0m, \u001b[38;5;34m67\u001b[0m, \u001b[38;5;34m128\u001b[0m)        │           \u001b[38;5;34m512\u001b[0m │\n",
              "│ (\u001b[38;5;33mBatchNormalization\u001b[0m)            │                        │               │\n",
              "├─────────────────────────────────┼────────────────────────┼───────────────┤\n",
              "│ flatten_16 (\u001b[38;5;33mFlatten\u001b[0m)            │ (\u001b[38;5;45mNone\u001b[0m, \u001b[38;5;34m8576\u001b[0m)           │             \u001b[38;5;34m0\u001b[0m │\n",
              "├─────────────────────────────────┼────────────────────────┼───────────────┤\n",
              "│ dense_69 (\u001b[38;5;33mDense\u001b[0m)                │ (\u001b[38;5;45mNone\u001b[0m, \u001b[38;5;34m128\u001b[0m)            │     \u001b[38;5;34m1,097,856\u001b[0m │\n",
              "├─────────────────────────────────┼────────────────────────┼───────────────┤\n",
              "│ dense_70 (\u001b[38;5;33mDense\u001b[0m)                │ (\u001b[38;5;45mNone\u001b[0m, \u001b[38;5;34m128\u001b[0m)            │        \u001b[38;5;34m16,512\u001b[0m │\n",
              "├─────────────────────────────────┼────────────────────────┼───────────────┤\n",
              "│ dense_71 (\u001b[38;5;33mDense\u001b[0m)                │ (\u001b[38;5;45mNone\u001b[0m, \u001b[38;5;34m128\u001b[0m)            │        \u001b[38;5;34m16,512\u001b[0m │\n",
              "├─────────────────────────────────┼────────────────────────┼───────────────┤\n",
              "│ dense_72 (\u001b[38;5;33mDense\u001b[0m)                │ (\u001b[38;5;45mNone\u001b[0m, \u001b[38;5;34m1\u001b[0m)              │           \u001b[38;5;34m129\u001b[0m │\n",
              "└─────────────────────────────────┴────────────────────────┴───────────────┘\n"
            ]
          },
          "metadata": {},
          "output_type": "display_data"
        },
        {
          "data": {
            "text/html": [
              "<pre style=\"white-space:pre;overflow-x:auto;line-height:normal;font-family:Menlo,'DejaVu Sans Mono',consolas,'Courier New',monospace\"><span style=\"font-weight: bold\"> Total params: </span><span style=\"color: #00af00; text-decoration-color: #00af00\">1,205,761</span> (4.60 MB)\n",
              "</pre>\n"
            ],
            "text/plain": [
              "\u001b[1m Total params: \u001b[0m\u001b[38;5;34m1,205,761\u001b[0m (4.60 MB)\n"
            ]
          },
          "metadata": {},
          "output_type": "display_data"
        },
        {
          "data": {
            "text/html": [
              "<pre style=\"white-space:pre;overflow-x:auto;line-height:normal;font-family:Menlo,'DejaVu Sans Mono',consolas,'Courier New',monospace\"><span style=\"font-weight: bold\"> Trainable params: </span><span style=\"color: #00af00; text-decoration-color: #00af00\">1,205,505</span> (4.60 MB)\n",
              "</pre>\n"
            ],
            "text/plain": [
              "\u001b[1m Trainable params: \u001b[0m\u001b[38;5;34m1,205,505\u001b[0m (4.60 MB)\n"
            ]
          },
          "metadata": {},
          "output_type": "display_data"
        },
        {
          "data": {
            "text/html": [
              "<pre style=\"white-space:pre;overflow-x:auto;line-height:normal;font-family:Menlo,'DejaVu Sans Mono',consolas,'Courier New',monospace\"><span style=\"font-weight: bold\"> Non-trainable params: </span><span style=\"color: #00af00; text-decoration-color: #00af00\">256</span> (1.00 KB)\n",
              "</pre>\n"
            ],
            "text/plain": [
              "\u001b[1m Non-trainable params: \u001b[0m\u001b[38;5;34m256\u001b[0m (1.00 KB)\n"
            ]
          },
          "metadata": {},
          "output_type": "display_data"
        },
        {
          "name": "stdout",
          "output_type": "stream",
          "text": [
            "\u001b[1m   1/2079\u001b[0m \u001b[37m━━━━━━━━━━━━━━━━━━━━\u001b[0m \u001b[1m24:47:50\u001b[0m 43s/step - accuracy: 0.5352 - loss: 0.6868"
          ]
        },
        {
          "name": "stderr",
          "output_type": "stream",
          "text": [
            "W0000 00:00:1723395855.524919      82 graph_launch.cc:671] Fallback to op-by-op mode because memset node breaks graph update\n"
          ]
        },
        {
          "name": "stdout",
          "output_type": "stream",
          "text": [
            "\u001b[1m2077/2079\u001b[0m \u001b[32m━━━━━━━━━━━━━━━━━━━\u001b[0m\u001b[37m━\u001b[0m \u001b[1m10s\u001b[0m 5s/step - accuracy: 0.7035 - loss: 0.5405"
          ]
        },
        {
          "name": "stderr",
          "output_type": "stream",
          "text": [
            "W0000 00:00:1723406718.810892      80 graph_launch.cc:671] Fallback to op-by-op mode because memset node breaks graph update\n"
          ]
        },
        {
          "name": "stdout",
          "output_type": "stream",
          "text": [
            "\u001b[1m2079/2079\u001b[0m \u001b[32m━━━━━━━━━━━━━━━━━━━━\u001b[0m\u001b[37m\u001b[0m \u001b[1m11480s\u001b[0m 6s/step - accuracy: 0.7035 - loss: 0.5405 - val_accuracy: 0.7455 - val_loss: 0.4932\n",
            "\u001b[1m  1/883\u001b[0m \u001b[37m━━━━━━━━━━━━━━━━━━━━\u001b[0m \u001b[1m59:59\u001b[0m 4s/step"
          ]
        },
        {
          "name": "stderr",
          "output_type": "stream",
          "text": [
            "W0000 00:00:1723407307.553591      81 graph_launch.cc:671] Fallback to op-by-op mode because memset node breaks graph update\n"
          ]
        },
        {
          "name": "stdout",
          "output_type": "stream",
          "text": [
            "\u001b[1m883/883\u001b[0m \u001b[32m━━━━━━━━━━━━━━━━━━━━\u001b[0m\u001b[37m\u001b[0m \u001b[1m4762s\u001b[0m 5s/step\n",
            "['submission.csv', '__notebook__.ipynb']\n",
            "['submission.csv', '__notebook__.ipynb']\n"
          ]
        }
      ],
      "source": [
        "classical_model.summary()\n",
        "history_classical = classical_model.fit(train_generator, validation_data=val_generator, epochs = 1)\n",
        "predict = classical_model.predict(test_generator, verbose=1)\n",
        "sample_submission['target'] = predict[:len(sample_submission)]\n",
        "sample_submission.to_csv('submission.csv', index=False)\n",
        "my_submission = pd.read_csv(\"./submission.csv\")\n",
        "my_submission\n",
        "import os\n",
        "print(os.listdir(\".\"))\n",
        "print(os.listdir(\"/kaggle/working\"))"
      ]
    },
    {
      "cell_type": "code",
      "execution_count": null,
      "id": "95528ae6",
      "metadata": {
        "execution": {
          "iopub.execute_input": "2024-08-11T21:34:27.533887Z",
          "iopub.status.busy": "2024-08-11T21:34:27.532687Z",
          "iopub.status.idle": "2024-08-11T21:34:27.977373Z",
          "shell.execute_reply": "2024-08-11T21:34:27.976412Z"
        },
        "papermill": {
          "duration": 0.864827,
          "end_time": "2024-08-11T21:34:27.979351",
          "exception": false,
          "start_time": "2024-08-11T21:34:27.114524",
          "status": "completed"
        },
        "tags": [],
        "id": "95528ae6",
        "outputId": "e7917e0d-0e4e-4bf2-a326-f25f48ecca80"
      },
      "outputs": [
        {
          "data": {
            "image/png": "[encoded data removed]",
            "text/plain": [
              "<Figure size 1000x700 with 2 Axes>"
            ]
          },
          "metadata": {},
          "output_type": "display_data"
        }
      ],
      "source": [
        "# Convert lists to numpy arrays for easier manipulation\n",
        "log_widths = np.array(log_width_history)\n",
        "layers = np.array(layers_history)\n",
        "accuracies = np.array(acc_history)\n",
        "\n",
        "# Find the index of the best accuracy\n",
        "best_index = np.argmax(accuracies)\n",
        "\n",
        "# Create a scatter plot with a custom color map\n",
        "plt.figure(figsize=(10, 7))\n",
        "cmap = plt.get_cmap('magma')  # This color map provides a gradient from dark purple to pink\n",
        "scatter = plt.scatter(log_widths, layers, c=accuracies, cmap=cmap, s=100, edgecolor='k')\n",
        "plt.colorbar(scatter, label='Accuracy')\n",
        "plt.xlabel('Log2(Width)')\n",
        "plt.ylabel('Dense Layers')\n",
        "\n",
        "# Mark the best configuration with a different symbol\n",
        "plt.scatter(log_widths[best_index], layers[best_index], color='gold', s=500, marker='P', edgecolor='black', label='Max Accuracy')  # 'P' is a plus-filled marker\n",
        "\n",
        "# Set x and y ticks to be integers\n",
        "plt.xticks(np.arange(log_widths.min(), log_widths.max()+1, 1))\n",
        "plt.yticks(np.arange(layers.min(), layers.max()+1, 1))\n",
        "\n",
        "plt.legend()\n",
        "plt.title('Exploration of Hyperparameter Space')\n",
        "plt.grid(True)\n",
        "plt.show()"
      ]
    },
    {
      "cell_type": "code",
      "execution_count": null,
      "id": "b8df5974",
      "metadata": {
        "execution": {
          "iopub.execute_input": "2024-08-11T21:34:30.161046Z",
          "iopub.status.busy": "2024-08-11T21:34:30.160652Z",
          "iopub.status.idle": "2024-08-11T21:34:30.459484Z",
          "shell.execute_reply": "2024-08-11T21:34:30.458553Z"
        },
        "papermill": {
          "duration": 0.720713,
          "end_time": "2024-08-11T21:34:30.461452",
          "exception": false,
          "start_time": "2024-08-11T21:34:29.740739",
          "status": "completed"
        },
        "tags": [],
        "id": "b8df5974",
        "outputId": "37517dd9-1b4d-4adf-81d9-2e3b251de8ff"
      },
      "outputs": [
        {
          "data": {
            "image/png": "[encoded data removed]",
            "text/plain": [
              "<Figure size 640x480 with 2 Axes>"
            ]
          },
          "metadata": {},
          "output_type": "display_data"
        }
      ],
      "source": [
        "from sklearn.metrics import confusion_matrix, ConfusionMatrixDisplay\n",
        "# Error-proofed Confusion Matrix\n",
        "try:\n",
        "    # Assuming predictions are already generated for the validation set\n",
        "    y_true = labels.loc[val_generator.indexes, 'target']\n",
        "    y_pred = (predict[:len(y_true)] > 0.5).astype(int)  # Ensure lengths match by slicing predict\n",
        "\n",
        "    cm = confusion_matrix(y_true, y_pred)\n",
        "    disp = ConfusionMatrixDisplay(confusion_matrix=cm)\n",
        "    disp.plot(cmap=plt.cm.Blues)\n",
        "    plt.title('Confusion Matrix')\n",
        "    plt.show()\n",
        "\n",
        "except ValueError as e:\n",
        "    print(f\"Error creating confusion matrix: {e}\")\n",
        "except Exception as e:\n",
        "    print(f\"An unexpected error occurred: {e}\")"
      ]
    },
    {
      "cell_type": "code",
      "execution_count": null,
      "id": "ec35ba5d",
      "metadata": {
        "execution": {
          "iopub.execute_input": "2024-08-11T21:44:34.123214Z",
          "iopub.status.busy": "2024-08-11T21:44:34.122245Z",
          "iopub.status.idle": "2024-08-11T21:44:35.423576Z",
          "shell.execute_reply": "2024-08-11T21:44:35.422651Z"
        },
        "papermill": {
          "duration": 1.824012,
          "end_time": "2024-08-11T21:44:35.425606",
          "exception": false,
          "start_time": "2024-08-11T21:44:33.601594",
          "status": "completed"
        },
        "tags": [],
        "id": "ec35ba5d",
        "outputId": "9908a63b-c740-4a0e-8440-5a95ce7b0c49"
      },
      "outputs": [
        {
          "data": {
            "image/png": "[encoded data removed]",
            "text/plain": [
              "<Figure size 1000x700 with 1 Axes>"
            ]
          },
          "metadata": {},
          "output_type": "display_data"
        }
      ],
      "source": [
        "from nnAudio.Spectrogram import CQT1992v2\n",
        "\n",
        "# Error-proofed Distribution Plot\n",
        "try:\n",
        "    plt.figure(figsize=(10, 7))\n",
        "    sns.histplot(predict, bins=50, kde=True)\n",
        "    plt.title('Distribution of Predicted Probabilities')\n",
        "    plt.xlabel('Predicted Probability')\n",
        "    plt.ylabel('Frequency')\n",
        "    plt.grid(True)\n",
        "    plt.show()\n",
        "\n",
        "except Exception as e:\n",
        "    print(f\"An error occurred while generating the distribution plot: {e}\")\n"
      ]
    }
  ],
  "metadata": {
    "kaggle": {
      "accelerator": "none",
      "dataSources": [
        {
          "databundleVersionId": 2399555,
          "sourceId": 23249,
          "sourceType": "competition"
        }
      ],
      "dockerImageVersionId": 30747,
      "isGpuEnabled": false,
      "isInternetEnabled": true,
      "language": "python",
      "sourceType": "notebook"
    },
    "kernelspec": {
      "display_name": "Python 3",
      "language": "python",
      "name": "python3"
    },
    "language_info": {
      "codemirror_mode": {
        "name": "ipython",
        "version": 3
      },
      "file_extension": ".py",
      "mimetype": "text/x-python",
      "name": "python",
      "nbconvert_exporter": "python",
      "pygments_lexer": "ipython3",
      "version": "3.10.13"
    },
    "papermill": {
      "default_parameters": {},
      "duration": 30243.078828,
      "end_time": "2024-08-11T21:44:40.415312",
      "environment_variables": {},
      "exception": null,
      "input_path": "__notebook__.ipynb",
      "output_path": "__notebook__.ipynb",
      "parameters": {},
      "start_time": "2024-08-11T13:20:37.336484",
      "version": "2.5.0"
    },
    "colab": {
      "provenance": []
    }
  },
  "nbformat": 4,
  "nbformat_minor": 5
}